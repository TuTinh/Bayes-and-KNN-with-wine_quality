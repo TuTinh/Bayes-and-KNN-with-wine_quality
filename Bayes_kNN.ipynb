{
  "nbformat": 4,
  "nbformat_minor": 0,
  "metadata": {
    "colab": {
      "name": "Bayes_kNN.ipynb",
      "provenance": [],
      "collapsed_sections": [],
      "toc_visible": true
    },
    "kernelspec": {
      "name": "python3",
      "display_name": "Python 3"
    },
    "language_info": {
      "name": "python"
    }
  },
  "cells": [
    {
      "cell_type": "code",
      "metadata": {
        "colab": {
          "base_uri": "https://localhost:8080/"
        },
        "id": "g4Yu3tqgvPt8",
        "outputId": "86ece213-555a-41b0-d8cf-6fb701069181"
      },
      "source": [
        "from google.colab import drive\n",
        "drive.mount('/content/drive')"
      ],
      "execution_count": 97,
      "outputs": [
        {
          "output_type": "stream",
          "name": "stdout",
          "text": [
            "Drive already mounted at /content/drive; to attempt to forcibly remount, call drive.mount(\"/content/drive\", force_remount=True).\n"
          ]
        }
      ]
    },
    {
      "cell_type": "markdown",
      "metadata": {
        "id": "lrKD6LsBjFPM"
      },
      "source": [
        "**Import thư viện**"
      ]
    },
    {
      "cell_type": "code",
      "metadata": {
        "id": "yjAYp7OKvkwL"
      },
      "source": [
        "import numpy as np                                                 \n",
        "import pandas as pd                                                \n",
        "import matplotlib.pyplot as plt                                    \n",
        "import seaborn as sns                                              \n",
        "%matplotlib inline\n",
        "sns.set()\n"
      ],
      "execution_count": 98,
      "outputs": []
    },
    {
      "cell_type": "code",
      "metadata": {
        "colab": {
          "base_uri": "https://localhost:8080/"
        },
        "id": "aEq_LpUHvkyo",
        "outputId": "15404bde-5405-444f-c48b-1e8101db90aa"
      },
      "source": [
        "cd /content/drive/MyDrive/CV/KNN_WineQuality"
      ],
      "execution_count": 99,
      "outputs": [
        {
          "output_type": "stream",
          "name": "stdout",
          "text": [
            "/content/drive/MyDrive/CV/KNN_WineQuality\n"
          ]
        }
      ]
    },
    {
      "cell_type": "markdown",
      "metadata": {
        "id": "8kVAA0QwjQjb"
      },
      "source": [
        "**Import dữ liệu**"
      ]
    },
    {
      "cell_type": "code",
      "metadata": {
        "id": "M_9vvPXLvk0r"
      },
      "source": [
        "#read the red wine report\n",
        "file = \"winequality-red.csv\"\n",
        "redwine_data = pd.read_csv(file)     \n",
        "\n",
        "#Read the white wine data\n",
        "file = \"winequality-white.csv\"\n",
        "whitewine_data = pd.read_csv(file)\n"
      ],
      "execution_count": 100,
      "outputs": []
    },
    {
      "cell_type": "markdown",
      "metadata": {
        "id": "qR3uWuBbvrKu"
      },
      "source": [
        "**Xử lý dữ liệu file Red_Wine**"
      ]
    },
    {
      "cell_type": "code",
      "metadata": {
        "id": "twyWWSGsvk2_",
        "colab": {
          "base_uri": "https://localhost:8080/",
          "height": 223
        },
        "outputId": "1d787db3-6651-4f86-ffd3-275e0aecb10b"
      },
      "source": [
        "#Thêm cột Type vào dữ liệu\n",
        "redwine_data[\"Type\"] = \"Red\"\n",
        "redwine_data.head()"
      ],
      "execution_count": 101,
      "outputs": [
        {
          "output_type": "execute_result",
          "data": {
            "text/html": [
              "<div>\n",
              "<style scoped>\n",
              "    .dataframe tbody tr th:only-of-type {\n",
              "        vertical-align: middle;\n",
              "    }\n",
              "\n",
              "    .dataframe tbody tr th {\n",
              "        vertical-align: top;\n",
              "    }\n",
              "\n",
              "    .dataframe thead th {\n",
              "        text-align: right;\n",
              "    }\n",
              "</style>\n",
              "<table border=\"1\" class=\"dataframe\">\n",
              "  <thead>\n",
              "    <tr style=\"text-align: right;\">\n",
              "      <th></th>\n",
              "      <th>fixed acidity</th>\n",
              "      <th>volatile acidity</th>\n",
              "      <th>citric acid</th>\n",
              "      <th>residual sugar</th>\n",
              "      <th>chlorides</th>\n",
              "      <th>free sulfur dioxide</th>\n",
              "      <th>total sulfur dioxide</th>\n",
              "      <th>density</th>\n",
              "      <th>pH</th>\n",
              "      <th>sulphates</th>\n",
              "      <th>alcohol</th>\n",
              "      <th>quality</th>\n",
              "      <th>Type</th>\n",
              "    </tr>\n",
              "  </thead>\n",
              "  <tbody>\n",
              "    <tr>\n",
              "      <th>0</th>\n",
              "      <td>7.4</td>\n",
              "      <td>0.70</td>\n",
              "      <td>0.00</td>\n",
              "      <td>1.9</td>\n",
              "      <td>0.076</td>\n",
              "      <td>11.0</td>\n",
              "      <td>34.0</td>\n",
              "      <td>0.9978</td>\n",
              "      <td>3.51</td>\n",
              "      <td>0.56</td>\n",
              "      <td>9.4</td>\n",
              "      <td>5</td>\n",
              "      <td>Red</td>\n",
              "    </tr>\n",
              "    <tr>\n",
              "      <th>1</th>\n",
              "      <td>7.8</td>\n",
              "      <td>0.88</td>\n",
              "      <td>0.00</td>\n",
              "      <td>2.6</td>\n",
              "      <td>0.098</td>\n",
              "      <td>25.0</td>\n",
              "      <td>67.0</td>\n",
              "      <td>0.9968</td>\n",
              "      <td>3.20</td>\n",
              "      <td>0.68</td>\n",
              "      <td>9.8</td>\n",
              "      <td>5</td>\n",
              "      <td>Red</td>\n",
              "    </tr>\n",
              "    <tr>\n",
              "      <th>2</th>\n",
              "      <td>7.8</td>\n",
              "      <td>0.76</td>\n",
              "      <td>0.04</td>\n",
              "      <td>2.3</td>\n",
              "      <td>0.092</td>\n",
              "      <td>15.0</td>\n",
              "      <td>54.0</td>\n",
              "      <td>0.9970</td>\n",
              "      <td>3.26</td>\n",
              "      <td>0.65</td>\n",
              "      <td>9.8</td>\n",
              "      <td>5</td>\n",
              "      <td>Red</td>\n",
              "    </tr>\n",
              "    <tr>\n",
              "      <th>3</th>\n",
              "      <td>11.2</td>\n",
              "      <td>0.28</td>\n",
              "      <td>0.56</td>\n",
              "      <td>1.9</td>\n",
              "      <td>0.075</td>\n",
              "      <td>17.0</td>\n",
              "      <td>60.0</td>\n",
              "      <td>0.9980</td>\n",
              "      <td>3.16</td>\n",
              "      <td>0.58</td>\n",
              "      <td>9.8</td>\n",
              "      <td>6</td>\n",
              "      <td>Red</td>\n",
              "    </tr>\n",
              "    <tr>\n",
              "      <th>4</th>\n",
              "      <td>7.4</td>\n",
              "      <td>0.70</td>\n",
              "      <td>0.00</td>\n",
              "      <td>1.9</td>\n",
              "      <td>0.076</td>\n",
              "      <td>11.0</td>\n",
              "      <td>34.0</td>\n",
              "      <td>0.9978</td>\n",
              "      <td>3.51</td>\n",
              "      <td>0.56</td>\n",
              "      <td>9.4</td>\n",
              "      <td>5</td>\n",
              "      <td>Red</td>\n",
              "    </tr>\n",
              "  </tbody>\n",
              "</table>\n",
              "</div>"
            ],
            "text/plain": [
              "   fixed acidity  volatile acidity  citric acid  ...  alcohol  quality  Type\n",
              "0            7.4              0.70         0.00  ...      9.4        5   Red\n",
              "1            7.8              0.88         0.00  ...      9.8        5   Red\n",
              "2            7.8              0.76         0.04  ...      9.8        5   Red\n",
              "3           11.2              0.28         0.56  ...      9.8        6   Red\n",
              "4            7.4              0.70         0.00  ...      9.4        5   Red\n",
              "\n",
              "[5 rows x 13 columns]"
            ]
          },
          "metadata": {},
          "execution_count": 101
        }
      ]
    },
    {
      "cell_type": "code",
      "metadata": {
        "id": "WSlN08Levk5B",
        "colab": {
          "base_uri": "https://localhost:8080/",
          "height": 379
        },
        "outputId": "53a2f632-7007-4e05-80a7-1d919275075e"
      },
      "source": [
        "f,ax = plt.subplots(figsize=(22,7))\n",
        "ax = redwine_data.plot.box(ax=ax)"
      ],
      "execution_count": 102,
      "outputs": [
        {
          "output_type": "display_data",
          "data": {
            "image/png": "[encoded data removed]",
            "text/plain": [
              "<Figure size 1584x504 with 1 Axes>"
            ]
          },
          "metadata": {}
        }
      ]
    },
    {
      "cell_type": "markdown",
      "metadata": {
        "id": "9I9ZHZHvrHLx"
      },
      "source": [
        "Giá trị ngoại lệ thấy ở cột  ***free suphur , total sulfur dioxide,residual sugar, chlorides, sulphates, citric acid, fixed acidity***"
      ]
    },
    {
      "cell_type": "code",
      "metadata": {
        "id": "Aqzqe1XEvk7i",
        "colab": {
          "base_uri": "https://localhost:8080/",
          "height": 778
        },
        "outputId": "413be5c6-5771-4d47-b0bd-39256632e4cc"
      },
      "source": [
        "f,ax = plt.subplots(3,2,figsize=(20,14))\n",
        "ax[0,0] = redwine_data[[\"total sulfur dioxide\"]].plot.box(ax=ax[0,0])\n",
        "ax[0,1] = redwine_data[[\"free sulfur dioxide\"]].plot.box(ax=ax[0,1])\n",
        "ax[0,1] = redwine_data[[\"residual sugar\"]].plot.box(ax=ax[0,1])\n",
        "ax[1,0] = redwine_data[[\"sulphates\"]].plot.box(ax=ax[1,0])\n",
        "ax[1,1] = redwine_data[[\"residual sugar\",\"fixed acidity\"]].plot.box(ax=ax[1,1])\n",
        "ax[2,0] = redwine_data[[\"chlorides\"]].plot.box(ax=ax[2,0])\n",
        "ax[2,1] = redwine_data[[\"citric acid\"]].plot.box(ax=ax[2,1])"
      ],
      "execution_count": 103,
      "outputs": [
        {
          "output_type": "display_data",
          "data": {
            "image/png": "[encoded data removed]",
            "text/plain": [
              "<Figure size 1440x1008 with 6 Axes>"
            ]
          },
          "metadata": {}
        }
      ]
    },
    {
      "cell_type": "code",
      "metadata": {
        "id": "PwgPQ-V5vlCa",
        "colab": {
          "base_uri": "https://localhost:8080/"
        },
        "outputId": "ddfdba37-8448-4e65-b2f0-27825e3e6782"
      },
      "source": [
        "# Xử lý ngoại lệ\n",
        "# 1. total sulfur dioxide\n",
        "colname = \"total sulfur dioxide\"\n",
        "outliervalue = 125.0\n",
        "\n",
        "TotalRedWines = redwine_data[colname].count()\n",
        "TotalActRedWines = TotalRedWines\n",
        "print(TotalRedWines)\n",
        "\n",
        "TotalOutliers = redwine_data[colname][redwine_data[colname] > outliervalue].count()\n",
        "print(TotalOutliers)\n",
        "print(colname ,\"- outliers percentage=\",round(TotalOutliers/TotalRedWines*100,2))\n",
        "\n",
        "redwine_datacleaned = redwine_data[redwine_data[colname]<=outliervalue].copy()\n",
        "\n",
        "print(\"After clean\",redwine_datacleaned[colname][redwine_datacleaned[colname]>outliervalue].count())\n",
        "print(\"After clean count=\",redwine_datacleaned[colname][redwine_datacleaned[colname]<=outliervalue].count())\n",
        "print(\"Removal percentage=\",round((TotalRedWines-redwine_datacleaned[colname][redwine_datacleaned[colname]<=outliervalue].count())\n",
        "                                   /TotalRedWines*100,2))\n",
        "\n",
        "# 2. free sulfur dioxide\n",
        "colname = \"free sulfur dioxide\"\n",
        "outliervalue = 45.0\n",
        "\n",
        "TotalRedWines = redwine_datacleaned[colname].count()\n",
        "TotalOutliers = redwine_datacleaned[colname][redwine_datacleaned[colname]>outliervalue].count()\n",
        "print(TotalOutliers)\n",
        "print(colname ,\"- outliers percentage=\",round(TotalOutliers/TotalRedWines*100,2))\n",
        "\n",
        "redwine_datacleaned = redwine_datacleaned[redwine_datacleaned[colname]<=outliervalue]\n",
        "\n",
        "print(\"After clean\",redwine_datacleaned[colname][redwine_datacleaned[colname]>outliervalue].count())\n",
        "print(\"After clean count=\",redwine_datacleaned[colname][redwine_datacleaned[colname]<=outliervalue].count())\n",
        "print(\"Removal percentage=\",round((TotalRedWines-redwine_datacleaned[colname][redwine_datacleaned[colname]<=outliervalue].count())\n",
        "                                   /TotalRedWines*100,2))\n",
        "\n",
        "# 3. sulphates\n",
        "colname = \"sulphates\"\n",
        "outliervalue = 1.0\n",
        "\n",
        "TotalRedWines = redwine_datacleaned[colname].count()\n",
        "TotalOutliers = redwine_datacleaned[colname][redwine_datacleaned[colname]>outliervalue].count()\n",
        "print(TotalOutliers)\n",
        "print(colname ,\"- outliers percentage=\",round(TotalOutliers/TotalRedWines*100,2))\n",
        "\n",
        "redwine_datacleaned = redwine_datacleaned[redwine_datacleaned[colname]<=outliervalue]\n",
        "\n",
        "print(\"After clean\",redwine_datacleaned[colname][redwine_datacleaned[colname]>outliervalue].count())\n",
        "print(\"After clean count=\",redwine_datacleaned[colname][redwine_datacleaned[colname]<=outliervalue].count())\n",
        "print(\"Removal percentage=\",round((TotalRedWines-redwine_datacleaned[colname][redwine_datacleaned[colname]<=outliervalue].count())\n",
        "                                   /TotalRedWines*100,2))\n",
        "\n",
        "# 4. residual sugar\n",
        "colname = \"residual sugar\"\n",
        "outliervalue = 4.8\n",
        "\n",
        "TotalRedWines = redwine_datacleaned[colname].count()\n",
        "TotalOutliers = redwine_datacleaned[colname][redwine_datacleaned[colname]>outliervalue].count()\n",
        "print(TotalOutliers)\n",
        "print(colname ,\"- outliers percentage=\",round(TotalOutliers/TotalRedWines*100,2))\n",
        "\n",
        "redwine_datacleaned = redwine_datacleaned[redwine_datacleaned[colname]<=outliervalue]\n",
        "\n",
        "print(\"After clean\",redwine_datacleaned[colname][redwine_datacleaned[colname]>outliervalue].count())\n",
        "print(\"After clean count=\",redwine_datacleaned[colname][redwine_datacleaned[colname]<=outliervalue].count())\n",
        "print(\"Removal percentage=\",round((TotalRedWines-redwine_datacleaned[colname][redwine_datacleaned[colname]<=outliervalue].count())\n",
        "                                   /TotalRedWines*100,2))\n",
        "\n",
        "# 5. fixed acidity\n",
        "colname = \"fixed acidity\"\n",
        "outliervalue = 12.0\n",
        "\n",
        "TotalRedWines = redwine_datacleaned[colname].count()\n",
        "TotalOutliers = redwine_datacleaned[colname][redwine_datacleaned[colname]>outliervalue].count()\n",
        "print(TotalOutliers)\n",
        "print(colname ,\"- outliers percentage=\",round(TotalOutliers/TotalRedWines*100,2))\n",
        "\n",
        "redwine_datacleaned = redwine_datacleaned[redwine_datacleaned[colname]<=outliervalue]\n",
        "\n",
        "print(\"After clean\",redwine_datacleaned[colname][redwine_datacleaned[colname]>outliervalue].count())\n",
        "print(\"After clean count=\",redwine_datacleaned[colname][redwine_datacleaned[colname]<=outliervalue].count())\n",
        "print(\"Removal percentage=\",round((TotalRedWines-redwine_datacleaned[colname][redwine_datacleaned[colname]<=outliervalue].count())\n",
        "                                   /TotalRedWines*100,2))\n",
        "\n",
        "# 6. chlorides\n",
        "colname = \"chlorides\"\n",
        "outliervalue = 0.15\n",
        "\n",
        "TotalRedWines = redwine_datacleaned[colname].count()\n",
        "TotalOutliers = redwine_datacleaned[colname][redwine_datacleaned[colname]>outliervalue].count()\n",
        "print(TotalOutliers)\n",
        "print(colname ,\"- outliers percentage=\",round(TotalOutliers/TotalRedWines*100,2))\n",
        "\n",
        "redwine_datacleaned = redwine_datacleaned[redwine_datacleaned[colname]<=outliervalue]\n",
        "\n",
        "print(\"After clean\",redwine_datacleaned[colname][redwine_datacleaned[colname]>outliervalue].count())\n",
        "print(\"After clean count=\",redwine_datacleaned[colname][redwine_datacleaned[colname]<=outliervalue].count())\n",
        "print(\"Removal percentage=\",round((TotalRedWines-redwine_datacleaned[colname][redwine_datacleaned[colname]<=outliervalue].count())\n",
        "                                   /TotalRedWines*100,2))\n",
        "\n",
        "# 7. citric acid\n",
        "colname = \"citric acid\"\n",
        "outliervalue = 0.8\n",
        "\n",
        "TotalRedWines = redwine_datacleaned[colname].count()\n",
        "TotalOutliers = redwine_datacleaned[colname][redwine_datacleaned[colname]>outliervalue].count()\n",
        "print(TotalOutliers)\n",
        "print(colname ,\"- outliers percentage=\",round(TotalOutliers/TotalRedWines*100,2))\n",
        "\n",
        "redwine_datacleaned = redwine_datacleaned[redwine_datacleaned[colname]<=outliervalue]\n",
        "\n",
        "print(\"After clean\",redwine_datacleaned[colname][redwine_datacleaned[colname]>outliervalue].count())\n",
        "print(\"After clean count=\",redwine_datacleaned[colname][redwine_datacleaned[colname]<=outliervalue].count())\n",
        "print(\"Removal percentage=\",round((TotalRedWines-redwine_datacleaned[colname][redwine_datacleaned[colname]<=outliervalue].count())\n",
        "                                   /TotalRedWines*100,2))\n",
        "\n",
        "print(\"Original Count=\",TotalActRedWines)\n",
        "print(\"After Cleanup Count=\",TotalRedWines)\n",
        "print(\"After Removal Percentage=\",round((TotalActRedWines-TotalRedWines)/TotalActRedWines*100,2))"
      ],
      "execution_count": 104,
      "outputs": [
        {
          "output_type": "stream",
          "name": "stdout",
          "text": [
            "1599\n",
            "50\n",
            "total sulfur dioxide - outliers percentage= 3.13\n",
            "After clean 0\n",
            "After clean count= 1549\n",
            "Removal percentage= 3.13\n",
            "19\n",
            "free sulfur dioxide - outliers percentage= 1.23\n",
            "After clean 0\n",
            "After clean count= 1530\n",
            "Removal percentage= 1.23\n",
            "51\n",
            "sulphates - outliers percentage= 3.33\n",
            "After clean 0\n",
            "After clean count= 1479\n",
            "Removal percentage= 3.33\n",
            "66\n",
            "residual sugar - outliers percentage= 4.46\n",
            "After clean 0\n",
            "After clean count= 1413\n",
            "Removal percentage= 4.46\n",
            "53\n",
            "fixed acidity - outliers percentage= 3.75\n",
            "After clean 0\n",
            "After clean count= 1360\n",
            "Removal percentage= 3.75\n",
            "34\n",
            "chlorides - outliers percentage= 2.5\n",
            "After clean 0\n",
            "After clean count= 1326\n",
            "Removal percentage= 2.5\n",
            "0\n",
            "citric acid - outliers percentage= 0.0\n",
            "After clean 0\n",
            "After clean count= 1326\n",
            "Removal percentage= 0.0\n",
            "Original Count= 1599\n",
            "After Cleanup Count= 1326\n",
            "After Removal Percentage= 17.07\n"
          ]
        }
      ]
    },
    {
      "cell_type": "markdown",
      "metadata": {
        "id": "LUTwSNYsvEEd"
      },
      "source": [
        "*Dữ liệu sau khi xử lý ngoại lệ*"
      ]
    },
    {
      "cell_type": "code",
      "metadata": {
        "id": "lPeggfYEvlHI",
        "colab": {
          "base_uri": "https://localhost:8080/",
          "height": 777
        },
        "outputId": "ca864183-8623-4181-de0c-d973bd33e624"
      },
      "source": [
        "f,ax = plt.subplots(3,2,figsize=(20,14))\n",
        "ax[0,0] = redwine_datacleaned[[\"total sulfur dioxide\"]].plot.box(ax=ax[0,0])\n",
        "ax[0,1] = redwine_datacleaned[[\"free sulfur dioxide\"]].plot.box(ax=ax[0,1])\n",
        "#ax[0,1] = redwine_datacleaned[[\"residual sugar\"]].plot.box(ax=ax[0,1])\n",
        "ax[1,0] = redwine_datacleaned[[\"sulphates\"]].plot.box(ax=ax[1,0])\n",
        "ax[1,1] = redwine_datacleaned[[\"residual sugar\",\"fixed acidity\"]].plot.box(ax=ax[1,1])\n",
        "ax[2,0] = redwine_datacleaned[[\"chlorides\"]].plot.box(ax=ax[2,0])\n",
        "ax[2,1] = redwine_datacleaned[[\"citric acid\"]].plot.box(ax=ax[2,1])"
      ],
      "execution_count": 105,
      "outputs": [
        {
          "output_type": "display_data",
          "data": {
            "image/png": "[encoded data removed]",
            "text/plain": [
              "<Figure size 1440x1008 with 6 Axes>"
            ]
          },
          "metadata": {}
        }
      ]
    },
    {
      "cell_type": "markdown",
      "metadata": {
        "id": "6Jb7I29dw7YZ"
      },
      "source": [
        "**Xử lý dữ liệu tương tự đối với file White_Wine**"
      ]
    },
    {
      "cell_type": "code",
      "metadata": {
        "id": "o7Ku0ausvlKc",
        "colab": {
          "base_uri": "https://localhost:8080/",
          "height": 223
        },
        "outputId": "86e9fcd3-f1ca-4f4e-d309-4b8d97ae8cde"
      },
      "source": [
        "whitewine_data[\"Type\"] = \"White\"\n",
        "whitewine_data.head()"
      ],
      "execution_count": 106,
      "outputs": [
        {
          "output_type": "execute_result",
          "data": {
            "text/html": [
              "<div>\n",
              "<style scoped>\n",
              "    .dataframe tbody tr th:only-of-type {\n",
              "        vertical-align: middle;\n",
              "    }\n",
              "\n",
              "    .dataframe tbody tr th {\n",
              "        vertical-align: top;\n",
              "    }\n",
              "\n",
              "    .dataframe thead th {\n",
              "        text-align: right;\n",
              "    }\n",
              "</style>\n",
              "<table border=\"1\" class=\"dataframe\">\n",
              "  <thead>\n",
              "    <tr style=\"text-align: right;\">\n",
              "      <th></th>\n",
              "      <th>fixed acidity</th>\n",
              "      <th>volatile acidity</th>\n",
              "      <th>citric acid</th>\n",
              "      <th>residual sugar</th>\n",
              "      <th>chlorides</th>\n",
              "      <th>free sulfur dioxide</th>\n",
              "      <th>total sulfur dioxide</th>\n",
              "      <th>density</th>\n",
              "      <th>pH</th>\n",
              "      <th>sulphates</th>\n",
              "      <th>alcohol</th>\n",
              "      <th>quality</th>\n",
              "      <th>Type</th>\n",
              "    </tr>\n",
              "  </thead>\n",
              "  <tbody>\n",
              "    <tr>\n",
              "      <th>0</th>\n",
              "      <td>7.0</td>\n",
              "      <td>0.27</td>\n",
              "      <td>0.36</td>\n",
              "      <td>20.7</td>\n",
              "      <td>0.045</td>\n",
              "      <td>45.0</td>\n",
              "      <td>170.0</td>\n",
              "      <td>1.0010</td>\n",
              "      <td>3.00</td>\n",
              "      <td>0.45</td>\n",
              "      <td>8.8</td>\n",
              "      <td>6</td>\n",
              "      <td>White</td>\n",
              "    </tr>\n",
              "    <tr>\n",
              "      <th>1</th>\n",
              "      <td>6.3</td>\n",
              "      <td>0.30</td>\n",
              "      <td>0.34</td>\n",
              "      <td>1.6</td>\n",
              "      <td>0.049</td>\n",
              "      <td>14.0</td>\n",
              "      <td>132.0</td>\n",
              "      <td>0.9940</td>\n",
              "      <td>3.30</td>\n",
              "      <td>0.49</td>\n",
              "      <td>9.5</td>\n",
              "      <td>6</td>\n",
              "      <td>White</td>\n",
              "    </tr>\n",
              "    <tr>\n",
              "      <th>2</th>\n",
              "      <td>8.1</td>\n",
              "      <td>0.28</td>\n",
              "      <td>0.40</td>\n",
              "      <td>6.9</td>\n",
              "      <td>0.050</td>\n",
              "      <td>30.0</td>\n",
              "      <td>97.0</td>\n",
              "      <td>0.9951</td>\n",
              "      <td>3.26</td>\n",
              "      <td>0.44</td>\n",
              "      <td>10.1</td>\n",
              "      <td>6</td>\n",
              "      <td>White</td>\n",
              "    </tr>\n",
              "    <tr>\n",
              "      <th>3</th>\n",
              "      <td>7.2</td>\n",
              "      <td>0.23</td>\n",
              "      <td>0.32</td>\n",
              "      <td>8.5</td>\n",
              "      <td>0.058</td>\n",
              "      <td>47.0</td>\n",
              "      <td>186.0</td>\n",
              "      <td>0.9956</td>\n",
              "      <td>3.19</td>\n",
              "      <td>0.40</td>\n",
              "      <td>9.9</td>\n",
              "      <td>6</td>\n",
              "      <td>White</td>\n",
              "    </tr>\n",
              "    <tr>\n",
              "      <th>4</th>\n",
              "      <td>7.2</td>\n",
              "      <td>0.23</td>\n",
              "      <td>0.32</td>\n",
              "      <td>8.5</td>\n",
              "      <td>0.058</td>\n",
              "      <td>47.0</td>\n",
              "      <td>186.0</td>\n",
              "      <td>0.9956</td>\n",
              "      <td>3.19</td>\n",
              "      <td>0.40</td>\n",
              "      <td>9.9</td>\n",
              "      <td>6</td>\n",
              "      <td>White</td>\n",
              "    </tr>\n",
              "  </tbody>\n",
              "</table>\n",
              "</div>"
            ],
            "text/plain": [
              "   fixed acidity  volatile acidity  citric acid  ...  alcohol  quality   Type\n",
              "0            7.0              0.27         0.36  ...      8.8        6  White\n",
              "1            6.3              0.30         0.34  ...      9.5        6  White\n",
              "2            8.1              0.28         0.40  ...     10.1        6  White\n",
              "3            7.2              0.23         0.32  ...      9.9        6  White\n",
              "4            7.2              0.23         0.32  ...      9.9        6  White\n",
              "\n",
              "[5 rows x 13 columns]"
            ]
          },
          "metadata": {},
          "execution_count": 106
        }
      ]
    },
    {
      "cell_type": "code",
      "metadata": {
        "colab": {
          "base_uri": "https://localhost:8080/",
          "height": 379
        },
        "id": "92BNJq6SxDJC",
        "outputId": "b528b192-9852-4144-bd88-3f41b7163ce4"
      },
      "source": [
        "f,ax = plt.subplots(figsize=(22,7))\n",
        "ax = whitewine_data.plot.box(ax=ax)"
      ],
      "execution_count": 107,
      "outputs": [
        {
          "output_type": "display_data",
          "data": {
            "image/png": "[encoded data removed]",
            "text/plain": [
              "<Figure size 1584x504 with 1 Axes>"
            ]
          },
          "metadata": {}
        }
      ]
    },
    {
      "cell_type": "markdown",
      "metadata": {
        "id": "oLoTwHOYxUWl"
      },
      "source": [
        "Giá trị ngoại lệ thấy ở cột **free suphur , total sulfur dioxide,residual sugar, chlorides, sulphates, citric acid và fixed acidity**"
      ]
    },
    {
      "cell_type": "code",
      "metadata": {
        "colab": {
          "base_uri": "https://localhost:8080/",
          "height": 776
        },
        "id": "67L2uoSuxDLb",
        "outputId": "b5ef95c6-5ccb-4961-bec6-a84162e4ee82"
      },
      "source": [
        "f,ax = plt.subplots(4,2,figsize=(20,14))\n",
        "ax[0,0] = whitewine_data[[\"total sulfur dioxide\"]].plot.box(ax=ax[0,0])\n",
        "ax[0,1] = whitewine_data[[\"free sulfur dioxide\"]].plot.box(ax=ax[0,1])\n",
        "#ax[0,1] = whitewine_data[[\"residual sugar\"]].plot.box(ax=ax[0,1])\n",
        "ax[1,0] = whitewine_data[[\"sulphates\"]].plot.box(ax=ax[1,0])\n",
        "ax[1,1] = whitewine_data[[\"residual sugar\"]].plot.box(ax=ax[1,1])\n",
        "ax[2,0] = whitewine_data[[\"chlorides\"]].plot.box(ax=ax[2,0])\n",
        "ax[2,1] = whitewine_data[[\"citric acid\"]].plot.box(ax=ax[2,1])\n",
        "ax[3,0] = whitewine_data[[\"fixed acidity\"]].plot.box(ax=ax[3,0])\n",
        "# ax[3,1] = whitewine_data[[\"fixed acidity\"]].plot.box(ax=ax[3,1])"
      ],
      "execution_count": 108,
      "outputs": [
        {
          "output_type": "display_data",
          "data": {
            "image/png": "[encoded data removed]",
            "text/plain": [
              "<Figure size 1440x1008 with 8 Axes>"
            ]
          },
          "metadata": {}
        }
      ]
    },
    {
      "cell_type": "code",
      "metadata": {
        "colab": {
          "base_uri": "https://localhost:8080/"
        },
        "id": "a55XNtG8xDOB",
        "outputId": "e01266f7-c6f4-4475-fa6c-0f2c0d691aed"
      },
      "source": [
        "# Xử lý ngoại lệ\n",
        "# 1. total sulfur dioxide\n",
        "colname = \"total sulfur dioxide\"\n",
        "outliervalue = 260.0\n",
        "\n",
        "TotalRedWines = whitewine_data[colname].count()\n",
        "TotalActRedWines = TotalRedWines\n",
        "print(TotalRedWines)\n",
        "\n",
        "TotalOutliers = whitewine_data[colname][whitewine_data[colname]>outliervalue].count()\n",
        "print(TotalOutliers)\n",
        "print(colname ,\"- outliers percentage=\",round(TotalOutliers/TotalRedWines*100,2))\n",
        "\n",
        "whitewine_datacleaned = whitewine_data[whitewine_data[colname]<=outliervalue].copy()\n",
        "\n",
        "print(\"After clean\",whitewine_datacleaned[colname][whitewine_datacleaned[colname]>outliervalue].count())\n",
        "print(\"After clean count=\",whitewine_datacleaned[colname][whitewine_datacleaned[colname]<=outliervalue].count())\n",
        "print(\"Removal percentage=\",round((TotalRedWines-whitewine_datacleaned[colname][whitewine_datacleaned[colname]<=outliervalue].count())\n",
        "                                   /TotalRedWines*100,2))\n",
        "\n",
        "# 2. free sulfur dioxide\n",
        "colname = \"free sulfur dioxide\"\n",
        "outliervalue = 80.0\n",
        "\n",
        "TotalRedWines = whitewine_datacleaned[colname].count()\n",
        "TotalOutliers = whitewine_datacleaned[colname][whitewine_datacleaned[colname]>outliervalue].count()\n",
        "print(TotalOutliers)\n",
        "print(colname ,\"- outliers percentage=\",round(TotalOutliers/TotalRedWines*100,2))\n",
        "\n",
        "whitewine_datacleaned = whitewine_datacleaned[whitewine_datacleaned[colname]<=outliervalue]\n",
        "\n",
        "print(\"After clean\",whitewine_datacleaned[colname][whitewine_datacleaned[colname]>outliervalue].count())\n",
        "print(\"After clean count=\",whitewine_datacleaned[colname][whitewine_datacleaned[colname]<=outliervalue].count())\n",
        "print(\"Removal percentage=\",round((TotalRedWines-whitewine_datacleaned[colname][whitewine_datacleaned[colname]<=outliervalue].count())\n",
        "                                   /TotalRedWines*100,2))\n",
        "\n",
        "# 3. sulphates\n",
        "colname = \"sulphates\"\n",
        "outliervalue = 0.7\n",
        "\n",
        "TotalRedWines = whitewine_datacleaned[colname].count()\n",
        "TotalOutliers = whitewine_datacleaned[colname][whitewine_datacleaned[colname]>outliervalue].count()\n",
        "print(TotalOutliers)\n",
        "print(colname ,\"- outliers percentage=\",round(TotalOutliers/TotalRedWines*100,2))\n",
        "\n",
        "whitewine_datacleaned = whitewine_datacleaned[whitewine_datacleaned[colname]<=outliervalue]\n",
        "\n",
        "print(\"After clean\",whitewine_datacleaned[colname][whitewine_datacleaned[colname]>outliervalue].count())\n",
        "print(\"After clean count=\",whitewine_datacleaned[colname][whitewine_datacleaned[colname]<=outliervalue].count())\n",
        "print(\"Removal percentage=\",round((TotalRedWines-whitewine_datacleaned[colname][whitewine_datacleaned[colname]<=outliervalue].count())\n",
        "                                   /TotalRedWines*100,2))\n",
        "\n",
        "# 4. residual sugar\n",
        "colname = \"residual sugar\"\n",
        "outliervalue = 25.0\n",
        "\n",
        "TotalRedWines = whitewine_datacleaned[colname].count()\n",
        "TotalOutliers = whitewine_datacleaned[colname][whitewine_datacleaned[colname]>outliervalue].count()\n",
        "print(TotalOutliers)\n",
        "print(colname ,\"- outliers percentage=\",round(TotalOutliers/TotalRedWines*100,2))\n",
        "\n",
        "whitewine_datacleaned = whitewine_datacleaned[whitewine_datacleaned[colname]<=outliervalue]\n",
        "\n",
        "print(\"After clean\",whitewine_datacleaned[colname][whitewine_datacleaned[colname]>outliervalue].count())\n",
        "print(\"After clean count=\",whitewine_datacleaned[colname][whitewine_datacleaned[colname]<=outliervalue].count())\n",
        "print(\"Removal percentage=\",round((TotalRedWines-whitewine_datacleaned[colname][whitewine_datacleaned[colname]<=outliervalue].count())\n",
        "                                   /TotalRedWines*100,2))\n",
        "\n",
        "# 5. fixed acidity\n",
        "colname = \"fixed acidity\"\n",
        "outliervalue = 9.7\n",
        "\n",
        "TotalRedWines = whitewine_datacleaned[colname].count()\n",
        "TotalOutliers = whitewine_datacleaned[colname][whitewine_datacleaned[colname]>outliervalue].count()\n",
        "print(TotalOutliers)\n",
        "print(colname ,\"- outliers percentage=\",round(TotalOutliers/TotalRedWines*100,2))\n",
        "\n",
        "whitewine_datacleaned = whitewine_datacleaned[whitewine_datacleaned[colname]<=outliervalue]\n",
        "\n",
        "print(\"After clean\",whitewine_datacleaned[colname][whitewine_datacleaned[colname]>outliervalue].count())\n",
        "print(\"After clean count=\",whitewine_datacleaned[colname][whitewine_datacleaned[colname]<=outliervalue].count())\n",
        "print(\"Removal percentage=\",round((TotalRedWines-whitewine_datacleaned[colname][whitewine_datacleaned[colname]<=outliervalue].count())\n",
        "                                   /TotalRedWines*100,2))\n",
        "\n",
        "# 6. chlorides\n",
        "colname = \"chlorides\"\n",
        "outliervalue = 0.08\n",
        "\n",
        "TotalRedWines = whitewine_datacleaned[colname].count()\n",
        "TotalOutliers = whitewine_datacleaned[colname][whitewine_datacleaned[colname]>outliervalue].count()\n",
        "print(TotalOutliers)\n",
        "print(colname ,\"- outliers percentage=\",round(TotalOutliers/TotalRedWines*100,2))\n",
        "\n",
        "whitewine_datacleaned = whitewine_datacleaned[whitewine_datacleaned[colname]<=outliervalue]\n",
        "\n",
        "print(\"After clean\",whitewine_datacleaned[colname][whitewine_datacleaned[colname]>outliervalue].count())\n",
        "print(\"After clean count=\",whitewine_datacleaned[colname][whitewine_datacleaned[colname]<=outliervalue].count())\n",
        "print(\"Removal percentage=\",round((TotalRedWines-whitewine_datacleaned[colname][whitewine_datacleaned[colname]<=outliervalue].count())\n",
        "                                   /TotalRedWines*100,2))\n",
        "\n",
        "# 7. citric acid\n",
        "colname = \"citric acid\"\n",
        "outliervalue = 0.65\n",
        "\n",
        "TotalRedWines = whitewine_datacleaned[colname].count()\n",
        "TotalOutliers = whitewine_datacleaned[colname][whitewine_datacleaned[colname]>outliervalue].count()\n",
        "print(TotalOutliers)\n",
        "print(colname ,\"- outliers percentage=\",round(TotalOutliers/TotalRedWines*100,2))\n",
        "\n",
        "whitewine_datacleaned = whitewine_datacleaned[whitewine_datacleaned[colname]<=outliervalue]\n",
        "\n",
        "print(\"After clean\",whitewine_datacleaned[colname][whitewine_datacleaned[colname]>outliervalue].count())\n",
        "print(\"After clean count=\",whitewine_datacleaned[colname][whitewine_datacleaned[colname]<=outliervalue].count())\n",
        "print(\"Removal percentage=\",round((TotalRedWines-whitewine_datacleaned[colname][whitewine_datacleaned[colname]<=outliervalue].count())\n",
        "                                   /TotalRedWines*100,2))\n",
        "\n",
        "print(\"Original Count=\",TotalActRedWines)\n",
        "print(\"After Cleanup Count=\",TotalRedWines)\n",
        "print(\"After Removal Percentage=\",round((TotalActRedWines-TotalRedWines)/TotalActRedWines*100,2))"
      ],
      "execution_count": 109,
      "outputs": [
        {
          "output_type": "stream",
          "name": "stdout",
          "text": [
            "4898\n",
            "10\n",
            "total sulfur dioxide - outliers percentage= 0.2\n",
            "After clean 0\n",
            "After clean count= 4888\n",
            "Removal percentage= 0.2\n",
            "46\n",
            "free sulfur dioxide - outliers percentage= 0.94\n",
            "After clean 0\n",
            "After clean count= 4842\n",
            "Removal percentage= 0.94\n",
            "240\n",
            "sulphates - outliers percentage= 4.96\n",
            "After clean 0\n",
            "After clean count= 4602\n",
            "Removal percentage= 4.96\n",
            "5\n",
            "residual sugar - outliers percentage= 0.11\n",
            "After clean 0\n",
            "After clean count= 4597\n",
            "Removal percentage= 0.11\n",
            "20\n",
            "fixed acidity - outliers percentage= 0.44\n",
            "After clean 0\n",
            "After clean count= 4577\n",
            "Removal percentage= 0.44\n",
            "158\n",
            "chlorides - outliers percentage= 3.45\n",
            "After clean 0\n",
            "After clean count= 4419\n",
            "Removal percentage= 3.45\n",
            "81\n",
            "citric acid - outliers percentage= 1.83\n",
            "After clean 0\n",
            "After clean count= 4338\n",
            "Removal percentage= 1.83\n",
            "Original Count= 4898\n",
            "After Cleanup Count= 4419\n",
            "After Removal Percentage= 9.78\n"
          ]
        }
      ]
    },
    {
      "cell_type": "markdown",
      "metadata": {
        "id": "rAkuq1oVyzWf"
      },
      "source": [
        "*Dữ liệu sau khi xử lý ngoại lệ*"
      ]
    },
    {
      "cell_type": "code",
      "metadata": {
        "colab": {
          "base_uri": "https://localhost:8080/",
          "height": 771
        },
        "id": "Iv46hs5NxDQK",
        "outputId": "959b47e0-d412-4fd1-bee1-f6d77292986e"
      },
      "source": [
        "f,ax = plt.subplots(4,2,figsize=(20,14))\n",
        "ax[0,0] = whitewine_datacleaned[[\"total sulfur dioxide\"]].plot.box(ax=ax[0,0])\n",
        "ax[0,1] = whitewine_datacleaned[[\"free sulfur dioxide\"]].plot.box(ax=ax[0,1])\n",
        "#ax[0,1] = whitewine_datacleaned[[\"residual sugar\"]].plot.box(ax=ax[0,1])\n",
        "ax[1,0] = whitewine_datacleaned[[\"sulphates\"]].plot.box(ax=ax[1,0])\n",
        "ax[1,1] = whitewine_datacleaned[[\"residual sugar\"]].plot.box(ax=ax[1,1])\n",
        "ax[2,0] = whitewine_datacleaned[[\"chlorides\"]].plot.box(ax=ax[2,0])\n",
        "ax[2,1] = whitewine_datacleaned[[\"citric acid\"]].plot.box(ax=ax[2,1])\n",
        "ax[3,0] = whitewine_datacleaned[[\"fixed acidity\"]].plot.box(ax=ax[3,0])\n",
        "# ax[3,1] = whitewine_datacleaned[[\"fixed acidity\"]].plot.box(ax=ax[3,1])"
      ],
      "execution_count": 110,
      "outputs": [
        {
          "output_type": "display_data",
          "data": {
            "image/png": "[encoded data removed]",
            "text/plain": [
              "<Figure size 1440x1008 with 8 Axes>"
            ]
          },
          "metadata": {}
        }
      ]
    },
    {
      "cell_type": "markdown",
      "metadata": {
        "id": "b-Mgka-Hzd8b"
      },
      "source": [
        "**Ghép 2 file dữ liệu Red và White**"
      ]
    },
    {
      "cell_type": "code",
      "metadata": {
        "colab": {
          "base_uri": "https://localhost:8080/",
          "height": 380
        },
        "id": "jNwt73SUy2XN",
        "outputId": "67452a9a-7f9d-47ad-b879-d6960fc8ff40"
      },
      "source": [
        "wine_data = pd.concat([redwine_data, whitewine_data], ignore_index=True)\n",
        "wine_data.head(10)"
      ],
      "execution_count": 111,
      "outputs": [
        {
          "output_type": "execute_result",
          "data": {
            "text/html": [
              "<div>\n",
              "<style scoped>\n",
              "    .dataframe tbody tr th:only-of-type {\n",
              "        vertical-align: middle;\n",
              "    }\n",
              "\n",
              "    .dataframe tbody tr th {\n",
              "        vertical-align: top;\n",
              "    }\n",
              "\n",
              "    .dataframe thead th {\n",
              "        text-align: right;\n",
              "    }\n",
              "</style>\n",
              "<table border=\"1\" class=\"dataframe\">\n",
              "  <thead>\n",
              "    <tr style=\"text-align: right;\">\n",
              "      <th></th>\n",
              "      <th>fixed acidity</th>\n",
              "      <th>volatile acidity</th>\n",
              "      <th>citric acid</th>\n",
              "      <th>residual sugar</th>\n",
              "      <th>chlorides</th>\n",
              "      <th>free sulfur dioxide</th>\n",
              "      <th>total sulfur dioxide</th>\n",
              "      <th>density</th>\n",
              "      <th>pH</th>\n",
              "      <th>sulphates</th>\n",
              "      <th>alcohol</th>\n",
              "      <th>quality</th>\n",
              "      <th>Type</th>\n",
              "    </tr>\n",
              "  </thead>\n",
              "  <tbody>\n",
              "    <tr>\n",
              "      <th>0</th>\n",
              "      <td>7.4</td>\n",
              "      <td>0.70</td>\n",
              "      <td>0.00</td>\n",
              "      <td>1.9</td>\n",
              "      <td>0.076</td>\n",
              "      <td>11.0</td>\n",
              "      <td>34.0</td>\n",
              "      <td>0.9978</td>\n",
              "      <td>3.51</td>\n",
              "      <td>0.56</td>\n",
              "      <td>9.4</td>\n",
              "      <td>5</td>\n",
              "      <td>Red</td>\n",
              "    </tr>\n",
              "    <tr>\n",
              "      <th>1</th>\n",
              "      <td>7.8</td>\n",
              "      <td>0.88</td>\n",
              "      <td>0.00</td>\n",
              "      <td>2.6</td>\n",
              "      <td>0.098</td>\n",
              "      <td>25.0</td>\n",
              "      <td>67.0</td>\n",
              "      <td>0.9968</td>\n",
              "      <td>3.20</td>\n",
              "      <td>0.68</td>\n",
              "      <td>9.8</td>\n",
              "      <td>5</td>\n",
              "      <td>Red</td>\n",
              "    </tr>\n",
              "    <tr>\n",
              "      <th>2</th>\n",
              "      <td>7.8</td>\n",
              "      <td>0.76</td>\n",
              "      <td>0.04</td>\n",
              "      <td>2.3</td>\n",
              "      <td>0.092</td>\n",
              "      <td>15.0</td>\n",
              "      <td>54.0</td>\n",
              "      <td>0.9970</td>\n",
              "      <td>3.26</td>\n",
              "      <td>0.65</td>\n",
              "      <td>9.8</td>\n",
              "      <td>5</td>\n",
              "      <td>Red</td>\n",
              "    </tr>\n",
              "    <tr>\n",
              "      <th>3</th>\n",
              "      <td>11.2</td>\n",
              "      <td>0.28</td>\n",
              "      <td>0.56</td>\n",
              "      <td>1.9</td>\n",
              "      <td>0.075</td>\n",
              "      <td>17.0</td>\n",
              "      <td>60.0</td>\n",
              "      <td>0.9980</td>\n",
              "      <td>3.16</td>\n",
              "      <td>0.58</td>\n",
              "      <td>9.8</td>\n",
              "      <td>6</td>\n",
              "      <td>Red</td>\n",
              "    </tr>\n",
              "    <tr>\n",
              "      <th>4</th>\n",
              "      <td>7.4</td>\n",
              "      <td>0.70</td>\n",
              "      <td>0.00</td>\n",
              "      <td>1.9</td>\n",
              "      <td>0.076</td>\n",
              "      <td>11.0</td>\n",
              "      <td>34.0</td>\n",
              "      <td>0.9978</td>\n",
              "      <td>3.51</td>\n",
              "      <td>0.56</td>\n",
              "      <td>9.4</td>\n",
              "      <td>5</td>\n",
              "      <td>Red</td>\n",
              "    </tr>\n",
              "    <tr>\n",
              "      <th>5</th>\n",
              "      <td>7.4</td>\n",
              "      <td>0.66</td>\n",
              "      <td>0.00</td>\n",
              "      <td>1.8</td>\n",
              "      <td>0.075</td>\n",
              "      <td>13.0</td>\n",
              "      <td>40.0</td>\n",
              "      <td>0.9978</td>\n",
              "      <td>3.51</td>\n",
              "      <td>0.56</td>\n",
              "      <td>9.4</td>\n",
              "      <td>5</td>\n",
              "      <td>Red</td>\n",
              "    </tr>\n",
              "    <tr>\n",
              "      <th>6</th>\n",
              "      <td>7.9</td>\n",
              "      <td>0.60</td>\n",
              "      <td>0.06</td>\n",
              "      <td>1.6</td>\n",
              "      <td>0.069</td>\n",
              "      <td>15.0</td>\n",
              "      <td>59.0</td>\n",
              "      <td>0.9964</td>\n",
              "      <td>3.30</td>\n",
              "      <td>0.46</td>\n",
              "      <td>9.4</td>\n",
              "      <td>5</td>\n",
              "      <td>Red</td>\n",
              "    </tr>\n",
              "    <tr>\n",
              "      <th>7</th>\n",
              "      <td>7.3</td>\n",
              "      <td>0.65</td>\n",
              "      <td>0.00</td>\n",
              "      <td>1.2</td>\n",
              "      <td>0.065</td>\n",
              "      <td>15.0</td>\n",
              "      <td>21.0</td>\n",
              "      <td>0.9946</td>\n",
              "      <td>3.39</td>\n",
              "      <td>0.47</td>\n",
              "      <td>10.0</td>\n",
              "      <td>7</td>\n",
              "      <td>Red</td>\n",
              "    </tr>\n",
              "    <tr>\n",
              "      <th>8</th>\n",
              "      <td>7.8</td>\n",
              "      <td>0.58</td>\n",
              "      <td>0.02</td>\n",
              "      <td>2.0</td>\n",
              "      <td>0.073</td>\n",
              "      <td>9.0</td>\n",
              "      <td>18.0</td>\n",
              "      <td>0.9968</td>\n",
              "      <td>3.36</td>\n",
              "      <td>0.57</td>\n",
              "      <td>9.5</td>\n",
              "      <td>7</td>\n",
              "      <td>Red</td>\n",
              "    </tr>\n",
              "    <tr>\n",
              "      <th>9</th>\n",
              "      <td>7.5</td>\n",
              "      <td>0.50</td>\n",
              "      <td>0.36</td>\n",
              "      <td>6.1</td>\n",
              "      <td>0.071</td>\n",
              "      <td>17.0</td>\n",
              "      <td>102.0</td>\n",
              "      <td>0.9978</td>\n",
              "      <td>3.35</td>\n",
              "      <td>0.80</td>\n",
              "      <td>10.5</td>\n",
              "      <td>5</td>\n",
              "      <td>Red</td>\n",
              "    </tr>\n",
              "  </tbody>\n",
              "</table>\n",
              "</div>"
            ],
            "text/plain": [
              "   fixed acidity  volatile acidity  citric acid  ...  alcohol  quality  Type\n",
              "0            7.4              0.70         0.00  ...      9.4        5   Red\n",
              "1            7.8              0.88         0.00  ...      9.8        5   Red\n",
              "2            7.8              0.76         0.04  ...      9.8        5   Red\n",
              "3           11.2              0.28         0.56  ...      9.8        6   Red\n",
              "4            7.4              0.70         0.00  ...      9.4        5   Red\n",
              "5            7.4              0.66         0.00  ...      9.4        5   Red\n",
              "6            7.9              0.60         0.06  ...      9.4        5   Red\n",
              "7            7.3              0.65         0.00  ...     10.0        7   Red\n",
              "8            7.8              0.58         0.02  ...      9.5        7   Red\n",
              "9            7.5              0.50         0.36  ...     10.5        5   Red\n",
              "\n",
              "[10 rows x 13 columns]"
            ]
          },
          "metadata": {},
          "execution_count": 111
        }
      ]
    },
    {
      "cell_type": "code",
      "metadata": {
        "colab": {
          "base_uri": "https://localhost:8080/",
          "height": 355
        },
        "id": "mvNDV15py2bV",
        "outputId": "ff6668f4-aab4-45ba-a6b7-7747a8986a10"
      },
      "source": [
        "wine_data.describe()"
      ],
      "execution_count": 112,
      "outputs": [
        {
          "output_type": "execute_result",
          "data": {
            "text/html": [
              "<div>\n",
              "<style scoped>\n",
              "    .dataframe tbody tr th:only-of-type {\n",
              "        vertical-align: middle;\n",
              "    }\n",
              "\n",
              "    .dataframe tbody tr th {\n",
              "        vertical-align: top;\n",
              "    }\n",
              "\n",
              "    .dataframe thead th {\n",
              "        text-align: right;\n",
              "    }\n",
              "</style>\n",
              "<table border=\"1\" class=\"dataframe\">\n",
              "  <thead>\n",
              "    <tr style=\"text-align: right;\">\n",
              "      <th></th>\n",
              "      <th>fixed acidity</th>\n",
              "      <th>volatile acidity</th>\n",
              "      <th>citric acid</th>\n",
              "      <th>residual sugar</th>\n",
              "      <th>chlorides</th>\n",
              "      <th>free sulfur dioxide</th>\n",
              "      <th>total sulfur dioxide</th>\n",
              "      <th>density</th>\n",
              "      <th>pH</th>\n",
              "      <th>sulphates</th>\n",
              "      <th>alcohol</th>\n",
              "      <th>quality</th>\n",
              "    </tr>\n",
              "  </thead>\n",
              "  <tbody>\n",
              "    <tr>\n",
              "      <th>count</th>\n",
              "      <td>6497.000000</td>\n",
              "      <td>6497.000000</td>\n",
              "      <td>6497.000000</td>\n",
              "      <td>6497.000000</td>\n",
              "      <td>6497.000000</td>\n",
              "      <td>6497.000000</td>\n",
              "      <td>6497.000000</td>\n",
              "      <td>6497.000000</td>\n",
              "      <td>6497.000000</td>\n",
              "      <td>6497.000000</td>\n",
              "      <td>6497.000000</td>\n",
              "      <td>6497.000000</td>\n",
              "    </tr>\n",
              "    <tr>\n",
              "      <th>mean</th>\n",
              "      <td>7.215307</td>\n",
              "      <td>0.339666</td>\n",
              "      <td>0.318633</td>\n",
              "      <td>5.443235</td>\n",
              "      <td>0.056034</td>\n",
              "      <td>30.525319</td>\n",
              "      <td>115.744574</td>\n",
              "      <td>0.994697</td>\n",
              "      <td>3.218501</td>\n",
              "      <td>0.531268</td>\n",
              "      <td>10.491801</td>\n",
              "      <td>5.818378</td>\n",
              "    </tr>\n",
              "    <tr>\n",
              "      <th>std</th>\n",
              "      <td>1.296434</td>\n",
              "      <td>0.164636</td>\n",
              "      <td>0.145318</td>\n",
              "      <td>4.757804</td>\n",
              "      <td>0.035034</td>\n",
              "      <td>17.749400</td>\n",
              "      <td>56.521855</td>\n",
              "      <td>0.002999</td>\n",
              "      <td>0.160787</td>\n",
              "      <td>0.148806</td>\n",
              "      <td>1.192712</td>\n",
              "      <td>0.873255</td>\n",
              "    </tr>\n",
              "    <tr>\n",
              "      <th>min</th>\n",
              "      <td>3.800000</td>\n",
              "      <td>0.080000</td>\n",
              "      <td>0.000000</td>\n",
              "      <td>0.600000</td>\n",
              "      <td>0.009000</td>\n",
              "      <td>1.000000</td>\n",
              "      <td>6.000000</td>\n",
              "      <td>0.987110</td>\n",
              "      <td>2.720000</td>\n",
              "      <td>0.220000</td>\n",
              "      <td>8.000000</td>\n",
              "      <td>3.000000</td>\n",
              "    </tr>\n",
              "    <tr>\n",
              "      <th>25%</th>\n",
              "      <td>6.400000</td>\n",
              "      <td>0.230000</td>\n",
              "      <td>0.250000</td>\n",
              "      <td>1.800000</td>\n",
              "      <td>0.038000</td>\n",
              "      <td>17.000000</td>\n",
              "      <td>77.000000</td>\n",
              "      <td>0.992340</td>\n",
              "      <td>3.110000</td>\n",
              "      <td>0.430000</td>\n",
              "      <td>9.500000</td>\n",
              "      <td>5.000000</td>\n",
              "    </tr>\n",
              "    <tr>\n",
              "      <th>50%</th>\n",
              "      <td>7.000000</td>\n",
              "      <td>0.290000</td>\n",
              "      <td>0.310000</td>\n",
              "      <td>3.000000</td>\n",
              "      <td>0.047000</td>\n",
              "      <td>29.000000</td>\n",
              "      <td>118.000000</td>\n",
              "      <td>0.994890</td>\n",
              "      <td>3.210000</td>\n",
              "      <td>0.510000</td>\n",
              "      <td>10.300000</td>\n",
              "      <td>6.000000</td>\n",
              "    </tr>\n",
              "    <tr>\n",
              "      <th>75%</th>\n",
              "      <td>7.700000</td>\n",
              "      <td>0.400000</td>\n",
              "      <td>0.390000</td>\n",
              "      <td>8.100000</td>\n",
              "      <td>0.065000</td>\n",
              "      <td>41.000000</td>\n",
              "      <td>156.000000</td>\n",
              "      <td>0.996990</td>\n",
              "      <td>3.320000</td>\n",
              "      <td>0.600000</td>\n",
              "      <td>11.300000</td>\n",
              "      <td>6.000000</td>\n",
              "    </tr>\n",
              "    <tr>\n",
              "      <th>max</th>\n",
              "      <td>15.900000</td>\n",
              "      <td>1.580000</td>\n",
              "      <td>1.660000</td>\n",
              "      <td>65.800000</td>\n",
              "      <td>0.611000</td>\n",
              "      <td>289.000000</td>\n",
              "      <td>440.000000</td>\n",
              "      <td>1.038980</td>\n",
              "      <td>4.010000</td>\n",
              "      <td>2.000000</td>\n",
              "      <td>14.900000</td>\n",
              "      <td>9.000000</td>\n",
              "    </tr>\n",
              "  </tbody>\n",
              "</table>\n",
              "</div>"
            ],
            "text/plain": [
              "       fixed acidity  volatile acidity  ...      alcohol      quality\n",
              "count    6497.000000       6497.000000  ...  6497.000000  6497.000000\n",
              "mean        7.215307          0.339666  ...    10.491801     5.818378\n",
              "std         1.296434          0.164636  ...     1.192712     0.873255\n",
              "min         3.800000          0.080000  ...     8.000000     3.000000\n",
              "25%         6.400000          0.230000  ...     9.500000     5.000000\n",
              "50%         7.000000          0.290000  ...    10.300000     6.000000\n",
              "75%         7.700000          0.400000  ...    11.300000     6.000000\n",
              "max        15.900000          1.580000  ...    14.900000     9.000000\n",
              "\n",
              "[8 rows x 12 columns]"
            ]
          },
          "metadata": {},
          "execution_count": 112
        }
      ]
    },
    {
      "cell_type": "code",
      "metadata": {
        "colab": {
          "base_uri": "https://localhost:8080/"
        },
        "id": "abTOX-Ify2fU",
        "outputId": "c5ffe5ab-1715-4fb5-89a5-4682bbcc7322"
      },
      "source": [
        "wine_data.info()"
      ],
      "execution_count": 113,
      "outputs": [
        {
          "output_type": "stream",
          "name": "stdout",
          "text": [
            "<class 'pandas.core.frame.DataFrame'>\n",
            "RangeIndex: 6497 entries, 0 to 6496\n",
            "Data columns (total 13 columns):\n",
            " #   Column                Non-Null Count  Dtype  \n",
            "---  ------                --------------  -----  \n",
            " 0   fixed acidity         6497 non-null   float64\n",
            " 1   volatile acidity      6497 non-null   float64\n",
            " 2   citric acid           6497 non-null   float64\n",
            " 3   residual sugar        6497 non-null   float64\n",
            " 4   chlorides             6497 non-null   float64\n",
            " 5   free sulfur dioxide   6497 non-null   float64\n",
            " 6   total sulfur dioxide  6497 non-null   float64\n",
            " 7   density               6497 non-null   float64\n",
            " 8   pH                    6497 non-null   float64\n",
            " 9   sulphates             6497 non-null   float64\n",
            " 10  alcohol               6497 non-null   float64\n",
            " 11  quality               6497 non-null   int64  \n",
            " 12  Type                  6497 non-null   object \n",
            "dtypes: float64(11), int64(1), object(1)\n",
            "memory usage: 660.0+ KB\n"
          ]
        }
      ]
    },
    {
      "cell_type": "code",
      "metadata": {
        "colab": {
          "base_uri": "https://localhost:8080/"
        },
        "id": "yw9qHSSRy2iW",
        "outputId": "7ad5441b-31cd-4439-cc37-d812b790df4b"
      },
      "source": [
        "wine_data.isnull().sum()"
      ],
      "execution_count": 114,
      "outputs": [
        {
          "output_type": "execute_result",
          "data": {
            "text/plain": [
              "fixed acidity           0\n",
              "volatile acidity        0\n",
              "citric acid             0\n",
              "residual sugar          0\n",
              "chlorides               0\n",
              "free sulfur dioxide     0\n",
              "total sulfur dioxide    0\n",
              "density                 0\n",
              "pH                      0\n",
              "sulphates               0\n",
              "alcohol                 0\n",
              "quality                 0\n",
              "Type                    0\n",
              "dtype: int64"
            ]
          },
          "metadata": {},
          "execution_count": 114
        }
      ]
    },
    {
      "cell_type": "markdown",
      "metadata": {
        "id": "0hcZWy_y1zAM"
      },
      "source": [
        "*Không có giá trị nào null*"
      ]
    },
    {
      "cell_type": "code",
      "metadata": {
        "colab": {
          "base_uri": "https://localhost:8080/",
          "height": 455
        },
        "id": "vbuOsypIy2lE",
        "outputId": "ed51598c-45b0-4d82-8c36-6cb6ee4df8ef"
      },
      "source": [
        "qlty=wine_data['quality'].groupby(wine_data['quality']).count()\n",
        "print(qlty)\n",
        "qlty.plot.bar()\n"
      ],
      "execution_count": 115,
      "outputs": [
        {
          "output_type": "stream",
          "name": "stdout",
          "text": [
            "quality\n",
            "3      30\n",
            "4     216\n",
            "5    2138\n",
            "6    2836\n",
            "7    1079\n",
            "8     193\n",
            "9       5\n",
            "Name: quality, dtype: int64\n"
          ]
        },
        {
          "output_type": "execute_result",
          "data": {
            "text/plain": [
              "<matplotlib.axes._subplots.AxesSubplot at 0x7fdc5eb67690>"
            ]
          },
          "metadata": {},
          "execution_count": 115
        },
        {
          "output_type": "display_data",
          "data": {
            "image/png": "[encoded data removed]",
            "text/plain": [
              "<Figure size 432x288 with 1 Axes>"
            ]
          },
          "metadata": {}
        }
      ]
    },
    {
      "cell_type": "markdown",
      "metadata": {
        "id": "LqbK4Qvy4lm8"
      },
      "source": [
        "Dữ liệu phân bố không đều, bị lệch nhiều về giá trị 5, 6, 7"
      ]
    },
    {
      "cell_type": "code",
      "metadata": {
        "colab": {
          "base_uri": "https://localhost:8080/"
        },
        "id": "gD4h1HmF120k",
        "outputId": "0d53cf8d-895c-4782-b357-66cc0390097f"
      },
      "source": [
        "# Mã hóa cột Type\n",
        "from sklearn.preprocessing import LabelEncoder\n",
        "le = LabelEncoder()\n",
        "\n",
        "wine_data['Type'] = le.fit_transform(wine_data['Type'].values)\n",
        "wine_data.Type.unique()"
      ],
      "execution_count": 116,
      "outputs": [
        {
          "output_type": "execute_result",
          "data": {
            "text/plain": [
              "array([0, 1])"
            ]
          },
          "metadata": {},
          "execution_count": 116
        }
      ]
    },
    {
      "cell_type": "markdown",
      "metadata": {
        "id": "6NwZJ2M868Hk"
      },
      "source": [
        "# **1. So sánh Bayes và kNN với dữ liệu chưa xử lý ngoại lệ và chưa scale**"
      ]
    },
    {
      "cell_type": "code",
      "metadata": {
        "id": "cpXoSQDV122c"
      },
      "source": [
        "# Sử dụng dữ liệu chưa xử lý ngoại lệ\n",
        "wine_data = pd.concat([redwine_data, whitewine_data], ignore_index=True)"
      ],
      "execution_count": 117,
      "outputs": []
    },
    {
      "cell_type": "code",
      "metadata": {
        "id": "6DPn7BOG124v"
      },
      "source": [
        "\n",
        "temp_wine = wine_data.loc[:,wine_data.columns != 'Type']\n",
        "temp_wine.skew()\n",
        "#label quality column\n",
        "label = temp_wine.pop('quality')"
      ],
      "execution_count": 118,
      "outputs": []
    },
    {
      "cell_type": "code",
      "metadata": {
        "id": "OShFAXvr128q"
      },
      "source": [
        "# Train-Test split \n",
        "from sklearn.model_selection import train_test_split\n",
        "\n",
        "data_train, data_test, label_train, label_test = train_test_split(temp_wine, label, test_size = 0.2, random_state = 42)\n"
      ],
      "execution_count": 119,
      "outputs": []
    },
    {
      "cell_type": "markdown",
      "metadata": {
        "id": "j8LqICjF8R_H"
      },
      "source": [
        "**1.1 KNN model**"
      ]
    },
    {
      "cell_type": "code",
      "metadata": {
        "id": "v2kaDy048Q-v"
      },
      "source": [
        "from sklearn.neighbors import KNeighborsClassifier\n",
        "knn = KNeighborsClassifier(n_neighbors=7, p=2, metric='minkowski') "
      ],
      "execution_count": 120,
      "outputs": []
    },
    {
      "cell_type": "code",
      "metadata": {
        "colab": {
          "base_uri": "https://localhost:8080/"
        },
        "id": "XSm35CS78RBR",
        "outputId": "9d353ca6-c6c1-49e0-ff82-e7db3aafb0f0"
      },
      "source": [
        "knn.fit(data_train, label_train)"
      ],
      "execution_count": 121,
      "outputs": [
        {
          "output_type": "execute_result",
          "data": {
            "text/plain": [
              "KNeighborsClassifier(n_neighbors=7)"
            ]
          },
          "metadata": {},
          "execution_count": 121
        }
      ]
    },
    {
      "cell_type": "code",
      "metadata": {
        "id": "cThS74Hy8RD6"
      },
      "source": [
        "y_preds = knn.predict(data_test)"
      ],
      "execution_count": 122,
      "outputs": []
    },
    {
      "cell_type": "code",
      "metadata": {
        "colab": {
          "base_uri": "https://localhost:8080/"
        },
        "id": "4wAKpkaO8RHP",
        "outputId": "5d4e2742-0d08-402b-dcdf-4ac2ff2d789a"
      },
      "source": [
        "from sklearn.metrics import accuracy_score\n",
        "\n",
        "knn_accuracy = accuracy_score(label_test,y_preds)\n",
        "print('Accuracy score for the KNN model:', knn_accuracy)"
      ],
      "execution_count": 123,
      "outputs": [
        {
          "output_type": "stream",
          "name": "stdout",
          "text": [
            "Accuracy score for the KNN model: 0.46615384615384614\n"
          ]
        }
      ]
    },
    {
      "cell_type": "markdown",
      "metadata": {
        "id": "FjmMiaOz9qJi"
      },
      "source": [
        "*Thử các giá trị k khác xem accuracy có tăng lên không*"
      ]
    },
    {
      "cell_type": "code",
      "metadata": {
        "colab": {
          "base_uri": "https://localhost:8080/",
          "height": 737
        },
        "id": "vyuS1gvH13C3",
        "outputId": "e01307fe-c689-4e94-c747-8d3b4bb5d9ab"
      },
      "source": [
        "xAxis = list()\n",
        "yAxis = list()\n",
        "for i in range(4,31,1):\n",
        "  knn = KNeighborsClassifier(n_neighbors=i, p=2, metric='minkowski') \n",
        "  #Fit the model\n",
        "  knn.fit(data_train, label_train)\n",
        "  xAxis.append(i)\n",
        "  #Use the model for pridiction\n",
        "  y_preds = knn.predict(data_test)\n",
        "  \n",
        "  #Model evaluation - check the accuracy score\n",
        "  knn_accuracy = accuracy_score(label_test,y_preds)\n",
        "  yAxis.append(knn_accuracy)\n",
        "  print('Accuracy score for the KNN model with n_neighbors=', i,\":\",knn_accuracy)\n",
        "\n",
        "linedata = pd.DataFrame({'X_Axis' : xAxis,\n",
        "                         'Y_Axis' : yAxis})\n",
        "#print(linedata)\n",
        "#plot the line graph\n",
        "fig, ax = plt.subplots(figsize=(20,4))\n",
        "#sns.set_style(\"ticks\")\n",
        "sns.set_style(\"whitegrid\")\n",
        "sns.lineplot(x = 'X_Axis',y = 'Y_Axis', data=linedata,ax=ax)\n",
        "\n",
        "#store the max accuracy of the KNN model\n",
        "knn_accuracy = max(yAxis)\n",
        "\n",
        "#sinplot()"
      ],
      "execution_count": 124,
      "outputs": [
        {
          "output_type": "stream",
          "name": "stdout",
          "text": [
            "Accuracy score for the KNN model with n_neighbors= 4 : 0.4823076923076923\n",
            "Accuracy score for the KNN model with n_neighbors= 5 : 0.45384615384615384\n",
            "Accuracy score for the KNN model with n_neighbors= 6 : 0.4492307692307692\n",
            "Accuracy score for the KNN model with n_neighbors= 7 : 0.46615384615384614\n",
            "Accuracy score for the KNN model with n_neighbors= 8 : 0.4676923076923077\n",
            "Accuracy score for the KNN model with n_neighbors= 9 : 0.46\n",
            "Accuracy score for the KNN model with n_neighbors= 10 : 0.46153846153846156\n",
            "Accuracy score for the KNN model with n_neighbors= 11 : 0.46\n",
            "Accuracy score for the KNN model with n_neighbors= 12 : 0.47307692307692306\n",
            "Accuracy score for the KNN model with n_neighbors= 13 : 0.46153846153846156\n",
            "Accuracy score for the KNN model with n_neighbors= 14 : 0.4623076923076923\n",
            "Accuracy score for the KNN model with n_neighbors= 15 : 0.4530769230769231\n",
            "Accuracy score for the KNN model with n_neighbors= 16 : 0.46153846153846156\n",
            "Accuracy score for the KNN model with n_neighbors= 17 : 0.4646153846153846\n",
            "Accuracy score for the KNN model with n_neighbors= 18 : 0.4776923076923077\n",
            "Accuracy score for the KNN model with n_neighbors= 19 : 0.46615384615384614\n",
            "Accuracy score for the KNN model with n_neighbors= 20 : 0.47307692307692306\n",
            "Accuracy score for the KNN model with n_neighbors= 21 : 0.46384615384615385\n",
            "Accuracy score for the KNN model with n_neighbors= 22 : 0.47384615384615386\n",
            "Accuracy score for the KNN model with n_neighbors= 23 : 0.47692307692307695\n",
            "Accuracy score for the KNN model with n_neighbors= 24 : 0.4746153846153846\n",
            "Accuracy score for the KNN model with n_neighbors= 25 : 0.46923076923076923\n",
            "Accuracy score for the KNN model with n_neighbors= 26 : 0.4715384615384615\n",
            "Accuracy score for the KNN model with n_neighbors= 27 : 0.4746153846153846\n",
            "Accuracy score for the KNN model with n_neighbors= 28 : 0.4653846153846154\n",
            "Accuracy score for the KNN model with n_neighbors= 29 : 0.46384615384615385\n",
            "Accuracy score for the KNN model with n_neighbors= 30 : 0.47\n"
          ]
        },
        {
          "output_type": "display_data",
          "data": {
            "image/png": "[encoded data removed]",
            "text/plain": [
              "<Figure size 1440x288 with 1 Axes>"
            ]
          },
          "metadata": {}
        }
      ]
    },
    {
      "cell_type": "markdown",
      "metadata": {
        "id": "OK-qqpy8Apli"
      },
      "source": [
        "**1.2 Bayes model**"
      ]
    },
    {
      "cell_type": "code",
      "metadata": {
        "id": "0R043i8p9rKY"
      },
      "source": [
        "from sklearn.naive_bayes import GaussianNB\n",
        "bayes = GaussianNB()\n"
      ],
      "execution_count": 125,
      "outputs": []
    },
    {
      "cell_type": "code",
      "metadata": {
        "colab": {
          "base_uri": "https://localhost:8080/"
        },
        "id": "ugLQWUmF9rM2",
        "outputId": "1215483c-9fc6-4cc0-c9eb-8d940574ac4d"
      },
      "source": [
        "bayes.fit(data_train, label_train)"
      ],
      "execution_count": 126,
      "outputs": [
        {
          "output_type": "execute_result",
          "data": {
            "text/plain": [
              "GaussianNB()"
            ]
          },
          "metadata": {},
          "execution_count": 126
        }
      ]
    },
    {
      "cell_type": "code",
      "metadata": {
        "id": "LgxNkioA9rPX"
      },
      "source": [
        "y_pred = bayes.predict(data_test)"
      ],
      "execution_count": 127,
      "outputs": []
    },
    {
      "cell_type": "code",
      "metadata": {
        "colab": {
          "base_uri": "https://localhost:8080/"
        },
        "id": "nguZ8ac39rSv",
        "outputId": "95efae36-c81f-4731-aecb-553d27c28e9c"
      },
      "source": [
        "from sklearn.metrics import accuracy_score\n",
        "bayes_accuracy = accuracy_score(label_test, y_pred)\n",
        "print('Accuracy score for the Bayes model:', bayes_accuracy)"
      ],
      "execution_count": 128,
      "outputs": [
        {
          "output_type": "stream",
          "name": "stdout",
          "text": [
            "Accuracy score for the Bayes model: 0.46923076923076923\n"
          ]
        }
      ]
    },
    {
      "cell_type": "markdown",
      "metadata": {
        "id": "peH-ws6uh4f_"
      },
      "source": [
        "**1.3. So sánh**"
      ]
    },
    {
      "cell_type": "code",
      "metadata": {
        "colab": {
          "base_uri": "https://localhost:8080/",
          "height": 81
        },
        "id": "8zttc5qkh3_V",
        "outputId": "a6834eb6-ad99-47a2-aaf8-75103053b611"
      },
      "source": [
        "models = pd.DataFrame({\n",
        "        'ModelName'         : ['Model 1'],\n",
        "        'Scaled?'           : ['No'],\n",
        "        'Outliers?'         : ['No'],\n",
        "        'Include Type?'     : ['No'],\n",
        "        'Added Category?'   : ['No'],\n",
        "        'Bayes_score'       : [bayes_accuracy],\n",
        "        'KNN_score'         : [knn_accuracy]\n",
        "    })\n",
        "models.sort_values(by='ModelName', ascending=True)"
      ],
      "execution_count": 129,
      "outputs": [
        {
          "output_type": "execute_result",
          "data": {
            "text/html": [
              "<div>\n",
              "<style scoped>\n",
              "    .dataframe tbody tr th:only-of-type {\n",
              "        vertical-align: middle;\n",
              "    }\n",
              "\n",
              "    .dataframe tbody tr th {\n",
              "        vertical-align: top;\n",
              "    }\n",
              "\n",
              "    .dataframe thead th {\n",
              "        text-align: right;\n",
              "    }\n",
              "</style>\n",
              "<table border=\"1\" class=\"dataframe\">\n",
              "  <thead>\n",
              "    <tr style=\"text-align: right;\">\n",
              "      <th></th>\n",
              "      <th>ModelName</th>\n",
              "      <th>Scaled?</th>\n",
              "      <th>Outliers?</th>\n",
              "      <th>Include Type?</th>\n",
              "      <th>Added Category?</th>\n",
              "      <th>Bayes_score</th>\n",
              "      <th>KNN_score</th>\n",
              "    </tr>\n",
              "  </thead>\n",
              "  <tbody>\n",
              "    <tr>\n",
              "      <th>0</th>\n",
              "      <td>Model 1</td>\n",
              "      <td>No</td>\n",
              "      <td>No</td>\n",
              "      <td>No</td>\n",
              "      <td>No</td>\n",
              "      <td>0.469231</td>\n",
              "      <td>0.482308</td>\n",
              "    </tr>\n",
              "  </tbody>\n",
              "</table>\n",
              "</div>"
            ],
            "text/plain": [
              "  ModelName Scaled? Outliers?  ... Added Category? Bayes_score  KNN_score\n",
              "0   Model 1      No        No  ...              No    0.469231   0.482308\n",
              "\n",
              "[1 rows x 7 columns]"
            ]
          },
          "metadata": {},
          "execution_count": 129
        }
      ]
    },
    {
      "cell_type": "markdown",
      "metadata": {
        "id": "5qdqHH2BsaLQ"
      },
      "source": [
        "# **2. So sánh Bayes và kNN với dữ liệu chưa xử lý ngoại lệ, chưa scale, gồm cột Type và chia cột Quality thành 3 nhóm giá trị (Kém: 1, Trung bình: 2, Tốt: 3)**"
      ]
    },
    {
      "cell_type": "code",
      "metadata": {
        "id": "ckNWjI4Dsal-"
      },
      "source": [
        "wine_data = pd.concat([redwine_data, whitewine_data], ignore_index=True)\n",
        "\n",
        "wine_data['qualityclass'] = wine_data.apply(lambda x: 1 if x['quality'] <= 3 else 2 if (x['quality'] > 3 and x['quality'] <= 6) else 3,axis=1)"
      ],
      "execution_count": 130,
      "outputs": []
    },
    {
      "cell_type": "code",
      "metadata": {
        "colab": {
          "base_uri": "https://localhost:8080/",
          "height": 146
        },
        "id": "yaFIcPP7sayt",
        "outputId": "41d688b0-bc10-4845-e22b-6c6404d4cbb8"
      },
      "source": [
        "wine_data[wine_data.qualityclass==3].head(2)"
      ],
      "execution_count": 131,
      "outputs": [
        {
          "output_type": "execute_result",
          "data": {
            "text/html": [
              "<div>\n",
              "<style scoped>\n",
              "    .dataframe tbody tr th:only-of-type {\n",
              "        vertical-align: middle;\n",
              "    }\n",
              "\n",
              "    .dataframe tbody tr th {\n",
              "        vertical-align: top;\n",
              "    }\n",
              "\n",
              "    .dataframe thead th {\n",
              "        text-align: right;\n",
              "    }\n",
              "</style>\n",
              "<table border=\"1\" class=\"dataframe\">\n",
              "  <thead>\n",
              "    <tr style=\"text-align: right;\">\n",
              "      <th></th>\n",
              "      <th>fixed acidity</th>\n",
              "      <th>volatile acidity</th>\n",
              "      <th>citric acid</th>\n",
              "      <th>residual sugar</th>\n",
              "      <th>chlorides</th>\n",
              "      <th>free sulfur dioxide</th>\n",
              "      <th>total sulfur dioxide</th>\n",
              "      <th>density</th>\n",
              "      <th>pH</th>\n",
              "      <th>sulphates</th>\n",
              "      <th>alcohol</th>\n",
              "      <th>quality</th>\n",
              "      <th>Type</th>\n",
              "      <th>qualityclass</th>\n",
              "    </tr>\n",
              "  </thead>\n",
              "  <tbody>\n",
              "    <tr>\n",
              "      <th>7</th>\n",
              "      <td>7.3</td>\n",
              "      <td>0.65</td>\n",
              "      <td>0.00</td>\n",
              "      <td>1.2</td>\n",
              "      <td>0.065</td>\n",
              "      <td>15.0</td>\n",
              "      <td>21.0</td>\n",
              "      <td>0.9946</td>\n",
              "      <td>3.39</td>\n",
              "      <td>0.47</td>\n",
              "      <td>10.0</td>\n",
              "      <td>7</td>\n",
              "      <td>Red</td>\n",
              "      <td>3</td>\n",
              "    </tr>\n",
              "    <tr>\n",
              "      <th>8</th>\n",
              "      <td>7.8</td>\n",
              "      <td>0.58</td>\n",
              "      <td>0.02</td>\n",
              "      <td>2.0</td>\n",
              "      <td>0.073</td>\n",
              "      <td>9.0</td>\n",
              "      <td>18.0</td>\n",
              "      <td>0.9968</td>\n",
              "      <td>3.36</td>\n",
              "      <td>0.57</td>\n",
              "      <td>9.5</td>\n",
              "      <td>7</td>\n",
              "      <td>Red</td>\n",
              "      <td>3</td>\n",
              "    </tr>\n",
              "  </tbody>\n",
              "</table>\n",
              "</div>"
            ],
            "text/plain": [
              "   fixed acidity  volatile acidity  citric acid  ...  quality  Type  qualityclass\n",
              "7            7.3              0.65         0.00  ...        7   Red             3\n",
              "8            7.8              0.58         0.02  ...        7   Red             3\n",
              "\n",
              "[2 rows x 14 columns]"
            ]
          },
          "metadata": {},
          "execution_count": 131
        }
      ]
    },
    {
      "cell_type": "code",
      "metadata": {
        "colab": {
          "base_uri": "https://localhost:8080/",
          "height": 146
        },
        "id": "8CqZvs27sa18",
        "outputId": "4b684f9b-04e9-48c8-d2b2-4fd7f7fff6a1"
      },
      "source": [
        "wine_data[wine_data.qualityclass==2].head(2)"
      ],
      "execution_count": 132,
      "outputs": [
        {
          "output_type": "execute_result",
          "data": {
            "text/html": [
              "<div>\n",
              "<style scoped>\n",
              "    .dataframe tbody tr th:only-of-type {\n",
              "        vertical-align: middle;\n",
              "    }\n",
              "\n",
              "    .dataframe tbody tr th {\n",
              "        vertical-align: top;\n",
              "    }\n",
              "\n",
              "    .dataframe thead th {\n",
              "        text-align: right;\n",
              "    }\n",
              "</style>\n",
              "<table border=\"1\" class=\"dataframe\">\n",
              "  <thead>\n",
              "    <tr style=\"text-align: right;\">\n",
              "      <th></th>\n",
              "      <th>fixed acidity</th>\n",
              "      <th>volatile acidity</th>\n",
              "      <th>citric acid</th>\n",
              "      <th>residual sugar</th>\n",
              "      <th>chlorides</th>\n",
              "      <th>free sulfur dioxide</th>\n",
              "      <th>total sulfur dioxide</th>\n",
              "      <th>density</th>\n",
              "      <th>pH</th>\n",
              "      <th>sulphates</th>\n",
              "      <th>alcohol</th>\n",
              "      <th>quality</th>\n",
              "      <th>Type</th>\n",
              "      <th>qualityclass</th>\n",
              "    </tr>\n",
              "  </thead>\n",
              "  <tbody>\n",
              "    <tr>\n",
              "      <th>0</th>\n",
              "      <td>7.4</td>\n",
              "      <td>0.70</td>\n",
              "      <td>0.0</td>\n",
              "      <td>1.9</td>\n",
              "      <td>0.076</td>\n",
              "      <td>11.0</td>\n",
              "      <td>34.0</td>\n",
              "      <td>0.9978</td>\n",
              "      <td>3.51</td>\n",
              "      <td>0.56</td>\n",
              "      <td>9.4</td>\n",
              "      <td>5</td>\n",
              "      <td>Red</td>\n",
              "      <td>2</td>\n",
              "    </tr>\n",
              "    <tr>\n",
              "      <th>1</th>\n",
              "      <td>7.8</td>\n",
              "      <td>0.88</td>\n",
              "      <td>0.0</td>\n",
              "      <td>2.6</td>\n",
              "      <td>0.098</td>\n",
              "      <td>25.0</td>\n",
              "      <td>67.0</td>\n",
              "      <td>0.9968</td>\n",
              "      <td>3.20</td>\n",
              "      <td>0.68</td>\n",
              "      <td>9.8</td>\n",
              "      <td>5</td>\n",
              "      <td>Red</td>\n",
              "      <td>2</td>\n",
              "    </tr>\n",
              "  </tbody>\n",
              "</table>\n",
              "</div>"
            ],
            "text/plain": [
              "   fixed acidity  volatile acidity  citric acid  ...  quality  Type  qualityclass\n",
              "0            7.4              0.70          0.0  ...        5   Red             2\n",
              "1            7.8              0.88          0.0  ...        5   Red             2\n",
              "\n",
              "[2 rows x 14 columns]"
            ]
          },
          "metadata": {},
          "execution_count": 132
        }
      ]
    },
    {
      "cell_type": "code",
      "metadata": {
        "colab": {
          "base_uri": "https://localhost:8080/",
          "height": 146
        },
        "id": "6govXlqRmsG8",
        "outputId": "1a2465d2-768a-4dc5-bbab-153b9052e0f3"
      },
      "source": [
        "wine_data[wine_data.qualityclass==1].head(2)"
      ],
      "execution_count": 133,
      "outputs": [
        {
          "output_type": "execute_result",
          "data": {
            "text/html": [
              "<div>\n",
              "<style scoped>\n",
              "    .dataframe tbody tr th:only-of-type {\n",
              "        vertical-align: middle;\n",
              "    }\n",
              "\n",
              "    .dataframe tbody tr th {\n",
              "        vertical-align: top;\n",
              "    }\n",
              "\n",
              "    .dataframe thead th {\n",
              "        text-align: right;\n",
              "    }\n",
              "</style>\n",
              "<table border=\"1\" class=\"dataframe\">\n",
              "  <thead>\n",
              "    <tr style=\"text-align: right;\">\n",
              "      <th></th>\n",
              "      <th>fixed acidity</th>\n",
              "      <th>volatile acidity</th>\n",
              "      <th>citric acid</th>\n",
              "      <th>residual sugar</th>\n",
              "      <th>chlorides</th>\n",
              "      <th>free sulfur dioxide</th>\n",
              "      <th>total sulfur dioxide</th>\n",
              "      <th>density</th>\n",
              "      <th>pH</th>\n",
              "      <th>sulphates</th>\n",
              "      <th>alcohol</th>\n",
              "      <th>quality</th>\n",
              "      <th>Type</th>\n",
              "      <th>qualityclass</th>\n",
              "    </tr>\n",
              "  </thead>\n",
              "  <tbody>\n",
              "    <tr>\n",
              "      <th>459</th>\n",
              "      <td>11.6</td>\n",
              "      <td>0.58</td>\n",
              "      <td>0.66</td>\n",
              "      <td>2.2</td>\n",
              "      <td>0.074</td>\n",
              "      <td>10.0</td>\n",
              "      <td>47.0</td>\n",
              "      <td>1.0008</td>\n",
              "      <td>3.25</td>\n",
              "      <td>0.57</td>\n",
              "      <td>9.0</td>\n",
              "      <td>3</td>\n",
              "      <td>Red</td>\n",
              "      <td>1</td>\n",
              "    </tr>\n",
              "    <tr>\n",
              "      <th>517</th>\n",
              "      <td>10.4</td>\n",
              "      <td>0.61</td>\n",
              "      <td>0.49</td>\n",
              "      <td>2.1</td>\n",
              "      <td>0.200</td>\n",
              "      <td>5.0</td>\n",
              "      <td>16.0</td>\n",
              "      <td>0.9994</td>\n",
              "      <td>3.16</td>\n",
              "      <td>0.63</td>\n",
              "      <td>8.4</td>\n",
              "      <td>3</td>\n",
              "      <td>Red</td>\n",
              "      <td>1</td>\n",
              "    </tr>\n",
              "  </tbody>\n",
              "</table>\n",
              "</div>"
            ],
            "text/plain": [
              "     fixed acidity  volatile acidity  citric acid  ...  quality  Type  qualityclass\n",
              "459           11.6              0.58         0.66  ...        3   Red             1\n",
              "517           10.4              0.61         0.49  ...        3   Red             1\n",
              "\n",
              "[2 rows x 14 columns]"
            ]
          },
          "metadata": {},
          "execution_count": 133
        }
      ]
    },
    {
      "cell_type": "code",
      "metadata": {
        "id": "IVNquj1BmsJW"
      },
      "source": [
        "wine_data = pd.get_dummies(wine_data, columns=['Type'], drop_first=True)"
      ],
      "execution_count": 134,
      "outputs": []
    },
    {
      "cell_type": "code",
      "metadata": {
        "colab": {
          "base_uri": "https://localhost:8080/",
          "height": 241
        },
        "id": "wubpEJBLt1l_",
        "outputId": "c22b6796-0f98-42a9-be5a-57127e069243"
      },
      "source": [
        "wine_data.head()"
      ],
      "execution_count": 135,
      "outputs": [
        {
          "output_type": "execute_result",
          "data": {
            "text/html": [
              "<div>\n",
              "<style scoped>\n",
              "    .dataframe tbody tr th:only-of-type {\n",
              "        vertical-align: middle;\n",
              "    }\n",
              "\n",
              "    .dataframe tbody tr th {\n",
              "        vertical-align: top;\n",
              "    }\n",
              "\n",
              "    .dataframe thead th {\n",
              "        text-align: right;\n",
              "    }\n",
              "</style>\n",
              "<table border=\"1\" class=\"dataframe\">\n",
              "  <thead>\n",
              "    <tr style=\"text-align: right;\">\n",
              "      <th></th>\n",
              "      <th>fixed acidity</th>\n",
              "      <th>volatile acidity</th>\n",
              "      <th>citric acid</th>\n",
              "      <th>residual sugar</th>\n",
              "      <th>chlorides</th>\n",
              "      <th>free sulfur dioxide</th>\n",
              "      <th>total sulfur dioxide</th>\n",
              "      <th>density</th>\n",
              "      <th>pH</th>\n",
              "      <th>sulphates</th>\n",
              "      <th>alcohol</th>\n",
              "      <th>quality</th>\n",
              "      <th>qualityclass</th>\n",
              "      <th>Type_White</th>\n",
              "    </tr>\n",
              "  </thead>\n",
              "  <tbody>\n",
              "    <tr>\n",
              "      <th>0</th>\n",
              "      <td>7.4</td>\n",
              "      <td>0.70</td>\n",
              "      <td>0.00</td>\n",
              "      <td>1.9</td>\n",
              "      <td>0.076</td>\n",
              "      <td>11.0</td>\n",
              "      <td>34.0</td>\n",
              "      <td>0.9978</td>\n",
              "      <td>3.51</td>\n",
              "      <td>0.56</td>\n",
              "      <td>9.4</td>\n",
              "      <td>5</td>\n",
              "      <td>2</td>\n",
              "      <td>0</td>\n",
              "    </tr>\n",
              "    <tr>\n",
              "      <th>1</th>\n",
              "      <td>7.8</td>\n",
              "      <td>0.88</td>\n",
              "      <td>0.00</td>\n",
              "      <td>2.6</td>\n",
              "      <td>0.098</td>\n",
              "      <td>25.0</td>\n",
              "      <td>67.0</td>\n",
              "      <td>0.9968</td>\n",
              "      <td>3.20</td>\n",
              "      <td>0.68</td>\n",
              "      <td>9.8</td>\n",
              "      <td>5</td>\n",
              "      <td>2</td>\n",
              "      <td>0</td>\n",
              "    </tr>\n",
              "    <tr>\n",
              "      <th>2</th>\n",
              "      <td>7.8</td>\n",
              "      <td>0.76</td>\n",
              "      <td>0.04</td>\n",
              "      <td>2.3</td>\n",
              "      <td>0.092</td>\n",
              "      <td>15.0</td>\n",
              "      <td>54.0</td>\n",
              "      <td>0.9970</td>\n",
              "      <td>3.26</td>\n",
              "      <td>0.65</td>\n",
              "      <td>9.8</td>\n",
              "      <td>5</td>\n",
              "      <td>2</td>\n",
              "      <td>0</td>\n",
              "    </tr>\n",
              "    <tr>\n",
              "      <th>3</th>\n",
              "      <td>11.2</td>\n",
              "      <td>0.28</td>\n",
              "      <td>0.56</td>\n",
              "      <td>1.9</td>\n",
              "      <td>0.075</td>\n",
              "      <td>17.0</td>\n",
              "      <td>60.0</td>\n",
              "      <td>0.9980</td>\n",
              "      <td>3.16</td>\n",
              "      <td>0.58</td>\n",
              "      <td>9.8</td>\n",
              "      <td>6</td>\n",
              "      <td>2</td>\n",
              "      <td>0</td>\n",
              "    </tr>\n",
              "    <tr>\n",
              "      <th>4</th>\n",
              "      <td>7.4</td>\n",
              "      <td>0.70</td>\n",
              "      <td>0.00</td>\n",
              "      <td>1.9</td>\n",
              "      <td>0.076</td>\n",
              "      <td>11.0</td>\n",
              "      <td>34.0</td>\n",
              "      <td>0.9978</td>\n",
              "      <td>3.51</td>\n",
              "      <td>0.56</td>\n",
              "      <td>9.4</td>\n",
              "      <td>5</td>\n",
              "      <td>2</td>\n",
              "      <td>0</td>\n",
              "    </tr>\n",
              "  </tbody>\n",
              "</table>\n",
              "</div>"
            ],
            "text/plain": [
              "   fixed acidity  volatile acidity  ...  qualityclass  Type_White\n",
              "0            7.4              0.70  ...             2           0\n",
              "1            7.8              0.88  ...             2           0\n",
              "2            7.8              0.76  ...             2           0\n",
              "3           11.2              0.28  ...             2           0\n",
              "4            7.4              0.70  ...             2           0\n",
              "\n",
              "[5 rows x 14 columns]"
            ]
          },
          "metadata": {},
          "execution_count": 135
        }
      ]
    },
    {
      "cell_type": "code",
      "metadata": {
        "colab": {
          "base_uri": "https://localhost:8080/",
          "height": 146
        },
        "id": "BBf3yXHXt1od",
        "outputId": "d5628a0e-a95d-4f1b-cb29-5ded04f91430"
      },
      "source": [
        "wine_data[wine_data.Type_White==1].head(2)"
      ],
      "execution_count": 136,
      "outputs": [
        {
          "output_type": "execute_result",
          "data": {
            "text/html": [
              "<div>\n",
              "<style scoped>\n",
              "    .dataframe tbody tr th:only-of-type {\n",
              "        vertical-align: middle;\n",
              "    }\n",
              "\n",
              "    .dataframe tbody tr th {\n",
              "        vertical-align: top;\n",
              "    }\n",
              "\n",
              "    .dataframe thead th {\n",
              "        text-align: right;\n",
              "    }\n",
              "</style>\n",
              "<table border=\"1\" class=\"dataframe\">\n",
              "  <thead>\n",
              "    <tr style=\"text-align: right;\">\n",
              "      <th></th>\n",
              "      <th>fixed acidity</th>\n",
              "      <th>volatile acidity</th>\n",
              "      <th>citric acid</th>\n",
              "      <th>residual sugar</th>\n",
              "      <th>chlorides</th>\n",
              "      <th>free sulfur dioxide</th>\n",
              "      <th>total sulfur dioxide</th>\n",
              "      <th>density</th>\n",
              "      <th>pH</th>\n",
              "      <th>sulphates</th>\n",
              "      <th>alcohol</th>\n",
              "      <th>quality</th>\n",
              "      <th>qualityclass</th>\n",
              "      <th>Type_White</th>\n",
              "    </tr>\n",
              "  </thead>\n",
              "  <tbody>\n",
              "    <tr>\n",
              "      <th>1599</th>\n",
              "      <td>7.0</td>\n",
              "      <td>0.27</td>\n",
              "      <td>0.36</td>\n",
              "      <td>20.7</td>\n",
              "      <td>0.045</td>\n",
              "      <td>45.0</td>\n",
              "      <td>170.0</td>\n",
              "      <td>1.001</td>\n",
              "      <td>3.0</td>\n",
              "      <td>0.45</td>\n",
              "      <td>8.8</td>\n",
              "      <td>6</td>\n",
              "      <td>2</td>\n",
              "      <td>1</td>\n",
              "    </tr>\n",
              "    <tr>\n",
              "      <th>1600</th>\n",
              "      <td>6.3</td>\n",
              "      <td>0.30</td>\n",
              "      <td>0.34</td>\n",
              "      <td>1.6</td>\n",
              "      <td>0.049</td>\n",
              "      <td>14.0</td>\n",
              "      <td>132.0</td>\n",
              "      <td>0.994</td>\n",
              "      <td>3.3</td>\n",
              "      <td>0.49</td>\n",
              "      <td>9.5</td>\n",
              "      <td>6</td>\n",
              "      <td>2</td>\n",
              "      <td>1</td>\n",
              "    </tr>\n",
              "  </tbody>\n",
              "</table>\n",
              "</div>"
            ],
            "text/plain": [
              "      fixed acidity  volatile acidity  ...  qualityclass  Type_White\n",
              "1599            7.0              0.27  ...             2           1\n",
              "1600            6.3              0.30  ...             2           1\n",
              "\n",
              "[2 rows x 14 columns]"
            ]
          },
          "metadata": {},
          "execution_count": 136
        }
      ]
    },
    {
      "cell_type": "code",
      "metadata": {
        "colab": {
          "base_uri": "https://localhost:8080/",
          "height": 146
        },
        "id": "PWViK0-it1qt",
        "outputId": "0175ff47-658a-4533-99df-d090bd9a1337"
      },
      "source": [
        "wine_data[wine_data.Type_White==0].head(2)"
      ],
      "execution_count": 137,
      "outputs": [
        {
          "output_type": "execute_result",
          "data": {
            "text/html": [
              "<div>\n",
              "<style scoped>\n",
              "    .dataframe tbody tr th:only-of-type {\n",
              "        vertical-align: middle;\n",
              "    }\n",
              "\n",
              "    .dataframe tbody tr th {\n",
              "        vertical-align: top;\n",
              "    }\n",
              "\n",
              "    .dataframe thead th {\n",
              "        text-align: right;\n",
              "    }\n",
              "</style>\n",
              "<table border=\"1\" class=\"dataframe\">\n",
              "  <thead>\n",
              "    <tr style=\"text-align: right;\">\n",
              "      <th></th>\n",
              "      <th>fixed acidity</th>\n",
              "      <th>volatile acidity</th>\n",
              "      <th>citric acid</th>\n",
              "      <th>residual sugar</th>\n",
              "      <th>chlorides</th>\n",
              "      <th>free sulfur dioxide</th>\n",
              "      <th>total sulfur dioxide</th>\n",
              "      <th>density</th>\n",
              "      <th>pH</th>\n",
              "      <th>sulphates</th>\n",
              "      <th>alcohol</th>\n",
              "      <th>quality</th>\n",
              "      <th>qualityclass</th>\n",
              "      <th>Type_White</th>\n",
              "    </tr>\n",
              "  </thead>\n",
              "  <tbody>\n",
              "    <tr>\n",
              "      <th>0</th>\n",
              "      <td>7.4</td>\n",
              "      <td>0.70</td>\n",
              "      <td>0.0</td>\n",
              "      <td>1.9</td>\n",
              "      <td>0.076</td>\n",
              "      <td>11.0</td>\n",
              "      <td>34.0</td>\n",
              "      <td>0.9978</td>\n",
              "      <td>3.51</td>\n",
              "      <td>0.56</td>\n",
              "      <td>9.4</td>\n",
              "      <td>5</td>\n",
              "      <td>2</td>\n",
              "      <td>0</td>\n",
              "    </tr>\n",
              "    <tr>\n",
              "      <th>1</th>\n",
              "      <td>7.8</td>\n",
              "      <td>0.88</td>\n",
              "      <td>0.0</td>\n",
              "      <td>2.6</td>\n",
              "      <td>0.098</td>\n",
              "      <td>25.0</td>\n",
              "      <td>67.0</td>\n",
              "      <td>0.9968</td>\n",
              "      <td>3.20</td>\n",
              "      <td>0.68</td>\n",
              "      <td>9.8</td>\n",
              "      <td>5</td>\n",
              "      <td>2</td>\n",
              "      <td>0</td>\n",
              "    </tr>\n",
              "  </tbody>\n",
              "</table>\n",
              "</div>"
            ],
            "text/plain": [
              "   fixed acidity  volatile acidity  ...  qualityclass  Type_White\n",
              "0            7.4              0.70  ...             2           0\n",
              "1            7.8              0.88  ...             2           0\n",
              "\n",
              "[2 rows x 14 columns]"
            ]
          },
          "metadata": {},
          "execution_count": 137
        }
      ]
    },
    {
      "cell_type": "markdown",
      "metadata": {
        "id": "eL5YFiRtu2JA"
      },
      "source": [
        "**2.1. KNN**"
      ]
    },
    {
      "cell_type": "code",
      "metadata": {
        "colab": {
          "base_uri": "https://localhost:8080/"
        },
        "id": "xz48c9g5t1sx",
        "outputId": "4e20a36f-ede9-4959-c4bf-97681c94edb9"
      },
      "source": [
        "#remove quality and type and keep qualityclass and Type_White dummies\n",
        "temp_wine = wine_data.loc[:,wine_data.columns != 'quality']\n",
        "temp_wine = temp_wine.loc[:,temp_wine.columns != 'Type']\n",
        "#temp_wine.skew()\n",
        "\n",
        "label = temp_wine.pop('qualityclass')\n",
        "\n",
        "#Train/Test data and check shape\n",
        "from sklearn.model_selection import train_test_split\n",
        "\n",
        "data_train, data_test, label_train, label_test = train_test_split(temp_wine, label, test_size = 0.2, random_state = 42)\n",
        "\n",
        "print('There are {} samples in the training set and {} samples in the test set'.format(data_train.shape[0], data_test.shape[0]))\n",
        "\n"
      ],
      "execution_count": 138,
      "outputs": [
        {
          "output_type": "stream",
          "name": "stdout",
          "text": [
            "There are 5197 samples in the training set and 1300 samples in the test set\n"
          ]
        }
      ]
    },
    {
      "cell_type": "code",
      "metadata": {
        "colab": {
          "base_uri": "https://localhost:8080/"
        },
        "id": "vwXcI4tLt1u_",
        "outputId": "32c81305-cdb3-49c7-990a-74fe825366ec"
      },
      "source": [
        "#Modelling and prediction\n",
        "from sklearn.neighbors import KNeighborsClassifier\n",
        "knn = KNeighborsClassifier(n_neighbors=7, p=2, metric='minkowski') \n",
        "\n",
        "knn.fit(data_train, label_train)\n",
        "\n",
        "y_preds = knn.predict(data_test)\n",
        "\n",
        "from sklearn.metrics import accuracy_score\n",
        "knn_accuracy = accuracy_score(label_test,y_preds)\n",
        "print('Accuracy score for the KNN model:', knn_accuracy)"
      ],
      "execution_count": 139,
      "outputs": [
        {
          "output_type": "stream",
          "name": "stdout",
          "text": [
            "Accuracy score for the KNN model: 0.7915384615384615\n"
          ]
        }
      ]
    },
    {
      "cell_type": "code",
      "metadata": {
        "colab": {
          "base_uri": "https://localhost:8080/",
          "height": 1000
        },
        "id": "KgVMm3NCt1xM",
        "outputId": "5fb4b8a1-9560-45a0-b275-03023a38fa3c"
      },
      "source": [
        "xAxis = list()\n",
        "yAxis = list()\n",
        "for i in range(4,51,1):\n",
        "  knn = KNeighborsClassifier(n_neighbors=i, p=2, metric='minkowski') \n",
        "\n",
        "  #Fit the model\n",
        "  knn.fit(data_train, label_train)\n",
        "  xAxis.append(i)\n",
        "  #Use the model for pridiction\n",
        "  y_preds = knn.predict(data_test)\n",
        "  \n",
        "  #Model evaluation - check the accuracy score\n",
        "  knn_accuracy = accuracy_score(label_test,y_preds)\n",
        "  yAxis.append(round(knn_accuracy,4))\n",
        "  print('Accuracy score for the KNN model with n_neighbors=', i,\":\",round(knn_accuracy,4))\n",
        "\n",
        "linedata = pd.DataFrame({'X_Axis' : xAxis,\n",
        "                         'Y_Axis' : yAxis})\n",
        "\n",
        "#plot the line graph\n",
        "fig, ax = plt.subplots(figsize=(15,8))\n",
        "#sns.set_style(\"ticks\")\n",
        "sns.set_style(\"whitegrid\")\n",
        "sns.lineplot(x = 'X_Axis',y = 'Y_Axis', data=linedata,ax=ax)\n",
        "\n",
        "knn_accuracy = max(yAxis)\n",
        "#sinplot()"
      ],
      "execution_count": 140,
      "outputs": [
        {
          "output_type": "stream",
          "name": "stdout",
          "text": [
            "Accuracy score for the KNN model with n_neighbors= 4 : 0.8038\n",
            "Accuracy score for the KNN model with n_neighbors= 5 : 0.7892\n",
            "Accuracy score for the KNN model with n_neighbors= 6 : 0.7938\n",
            "Accuracy score for the KNN model with n_neighbors= 7 : 0.7915\n",
            "Accuracy score for the KNN model with n_neighbors= 8 : 0.8031\n",
            "Accuracy score for the KNN model with n_neighbors= 9 : 0.7985\n",
            "Accuracy score for the KNN model with n_neighbors= 10 : 0.7992\n",
            "Accuracy score for the KNN model with n_neighbors= 11 : 0.7938\n",
            "Accuracy score for the KNN model with n_neighbors= 12 : 0.7931\n",
            "Accuracy score for the KNN model with n_neighbors= 13 : 0.7946\n",
            "Accuracy score for the KNN model with n_neighbors= 14 : 0.8008\n",
            "Accuracy score for the KNN model with n_neighbors= 15 : 0.7985\n",
            "Accuracy score for the KNN model with n_neighbors= 16 : 0.7954\n",
            "Accuracy score for the KNN model with n_neighbors= 17 : 0.7962\n",
            "Accuracy score for the KNN model with n_neighbors= 18 : 0.8\n",
            "Accuracy score for the KNN model with n_neighbors= 19 : 0.7985\n",
            "Accuracy score for the KNN model with n_neighbors= 20 : 0.8023\n",
            "Accuracy score for the KNN model with n_neighbors= 21 : 0.7985\n",
            "Accuracy score for the KNN model with n_neighbors= 22 : 0.8031\n",
            "Accuracy score for the KNN model with n_neighbors= 23 : 0.8038\n",
            "Accuracy score for the KNN model with n_neighbors= 24 : 0.8023\n",
            "Accuracy score for the KNN model with n_neighbors= 25 : 0.8046\n",
            "Accuracy score for the KNN model with n_neighbors= 26 : 0.8038\n",
            "Accuracy score for the KNN model with n_neighbors= 27 : 0.8077\n",
            "Accuracy score for the KNN model with n_neighbors= 28 : 0.8054\n",
            "Accuracy score for the KNN model with n_neighbors= 29 : 0.8015\n",
            "Accuracy score for the KNN model with n_neighbors= 30 : 0.8031\n",
            "Accuracy score for the KNN model with n_neighbors= 31 : 0.7992\n",
            "Accuracy score for the KNN model with n_neighbors= 32 : 0.8008\n",
            "Accuracy score for the KNN model with n_neighbors= 33 : 0.8\n",
            "Accuracy score for the KNN model with n_neighbors= 34 : 0.8031\n",
            "Accuracy score for the KNN model with n_neighbors= 35 : 0.8023\n",
            "Accuracy score for the KNN model with n_neighbors= 36 : 0.8038\n",
            "Accuracy score for the KNN model with n_neighbors= 37 : 0.8023\n",
            "Accuracy score for the KNN model with n_neighbors= 38 : 0.8038\n",
            "Accuracy score for the KNN model with n_neighbors= 39 : 0.8015\n",
            "Accuracy score for the KNN model with n_neighbors= 40 : 0.8023\n",
            "Accuracy score for the KNN model with n_neighbors= 41 : 0.8023\n",
            "Accuracy score for the KNN model with n_neighbors= 42 : 0.8031\n",
            "Accuracy score for the KNN model with n_neighbors= 43 : 0.8023\n",
            "Accuracy score for the KNN model with n_neighbors= 44 : 0.8008\n",
            "Accuracy score for the KNN model with n_neighbors= 45 : 0.8015\n",
            "Accuracy score for the KNN model with n_neighbors= 46 : 0.8\n",
            "Accuracy score for the KNN model with n_neighbors= 47 : 0.8008\n",
            "Accuracy score for the KNN model with n_neighbors= 48 : 0.8023\n",
            "Accuracy score for the KNN model with n_neighbors= 49 : 0.8015\n",
            "Accuracy score for the KNN model with n_neighbors= 50 : 0.8031\n"
          ]
        },
        {
          "output_type": "display_data",
          "data": {
            "image/png": "[encoded data removed]",
            "text/plain": [
              "<Figure size 1080x576 with 1 Axes>"
            ]
          },
          "metadata": {}
        }
      ]
    },
    {
      "cell_type": "markdown",
      "metadata": {
        "id": "LFu8S2LtvnYF"
      },
      "source": [
        "**2.2 Bayes**"
      ]
    },
    {
      "cell_type": "code",
      "metadata": {
        "id": "GBm5U4pJt10v"
      },
      "source": [
        "from sklearn.naive_bayes import GaussianNB\n",
        "bayes = GaussianNB()"
      ],
      "execution_count": 141,
      "outputs": []
    },
    {
      "cell_type": "code",
      "metadata": {
        "colab": {
          "base_uri": "https://localhost:8080/"
        },
        "id": "yzpNCDAtvj2e",
        "outputId": "c1e8deb7-8f22-41f4-ab2b-043a4ce9a067"
      },
      "source": [
        "bayes.fit(data_train, label_train)"
      ],
      "execution_count": 142,
      "outputs": [
        {
          "output_type": "execute_result",
          "data": {
            "text/plain": [
              "GaussianNB()"
            ]
          },
          "metadata": {},
          "execution_count": 142
        }
      ]
    },
    {
      "cell_type": "code",
      "metadata": {
        "id": "Dyqi4UP2vj5M"
      },
      "source": [
        "y_pred = bayes.predict(data_test)"
      ],
      "execution_count": 143,
      "outputs": []
    },
    {
      "cell_type": "code",
      "metadata": {
        "colab": {
          "base_uri": "https://localhost:8080/"
        },
        "id": "SSwgFcjTvj8F",
        "outputId": "eb377a9d-c327-4cdf-9e67-d4aed9772008"
      },
      "source": [
        "from sklearn.metrics import accuracy_score\n",
        "bayes_accuracy = accuracy_score(label_test, y_pred)\n",
        "print('Accuracy score for the Bayes model:', bayes_accuracy)"
      ],
      "execution_count": 144,
      "outputs": [
        {
          "output_type": "stream",
          "name": "stdout",
          "text": [
            "Accuracy score for the Bayes model: 0.7261538461538461\n"
          ]
        }
      ]
    },
    {
      "cell_type": "markdown",
      "metadata": {
        "id": "61ubD06bwW1k"
      },
      "source": [
        "**2.3 So sánh**"
      ]
    },
    {
      "cell_type": "code",
      "metadata": {
        "colab": {
          "base_uri": "https://localhost:8080/",
          "height": 112
        },
        "id": "NtzGfLPWmsLq",
        "outputId": "05f23056-3cde-47f2-b5e8-defbd06439dc"
      },
      "source": [
        "model2 = pd.DataFrame({\n",
        "        'ModelName'         : ['Model 2'],\n",
        "        'Scaled?'           : ['No'],\n",
        "        'Outliers?'         : ['No'],\n",
        "        'Include Type?'     : ['Yes'],\n",
        "        'Added Category?'   : ['Yes'],\n",
        "        'Bayes_score'       : [bayes_accuracy],\n",
        "        'KNN_score'         : [knn_accuracy]\n",
        "    })\n",
        "models = models.append(model2,ignore_index=True)\n",
        "models.drop_duplicates(subset = None, keep = 'first', inplace = True) \n",
        "models.sort_values(by='ModelName', ascending=True)\n",
        "\n",
        "models"
      ],
      "execution_count": 145,
      "outputs": [
        {
          "output_type": "execute_result",
          "data": {
            "text/html": [
              "<div>\n",
              "<style scoped>\n",
              "    .dataframe tbody tr th:only-of-type {\n",
              "        vertical-align: middle;\n",
              "    }\n",
              "\n",
              "    .dataframe tbody tr th {\n",
              "        vertical-align: top;\n",
              "    }\n",
              "\n",
              "    .dataframe thead th {\n",
              "        text-align: right;\n",
              "    }\n",
              "</style>\n",
              "<table border=\"1\" class=\"dataframe\">\n",
              "  <thead>\n",
              "    <tr style=\"text-align: right;\">\n",
              "      <th></th>\n",
              "      <th>ModelName</th>\n",
              "      <th>Scaled?</th>\n",
              "      <th>Outliers?</th>\n",
              "      <th>Include Type?</th>\n",
              "      <th>Added Category?</th>\n",
              "      <th>Bayes_score</th>\n",
              "      <th>KNN_score</th>\n",
              "    </tr>\n",
              "  </thead>\n",
              "  <tbody>\n",
              "    <tr>\n",
              "      <th>0</th>\n",
              "      <td>Model 1</td>\n",
              "      <td>No</td>\n",
              "      <td>No</td>\n",
              "      <td>No</td>\n",
              "      <td>No</td>\n",
              "      <td>0.469231</td>\n",
              "      <td>0.482308</td>\n",
              "    </tr>\n",
              "    <tr>\n",
              "      <th>1</th>\n",
              "      <td>Model 2</td>\n",
              "      <td>No</td>\n",
              "      <td>No</td>\n",
              "      <td>Yes</td>\n",
              "      <td>Yes</td>\n",
              "      <td>0.726154</td>\n",
              "      <td>0.807700</td>\n",
              "    </tr>\n",
              "  </tbody>\n",
              "</table>\n",
              "</div>"
            ],
            "text/plain": [
              "  ModelName Scaled? Outliers?  ... Added Category? Bayes_score  KNN_score\n",
              "0   Model 1      No        No  ...              No    0.469231   0.482308\n",
              "1   Model 2      No        No  ...             Yes    0.726154   0.807700\n",
              "\n",
              "[2 rows x 7 columns]"
            ]
          },
          "metadata": {},
          "execution_count": 145
        }
      ]
    },
    {
      "cell_type": "markdown",
      "metadata": {
        "id": "YYc52cfszYPu"
      },
      "source": [
        "# **3. So sánh Bayes và kNN với dữ liệu đã xử lý ngoại lệ, chưa scale**"
      ]
    },
    {
      "cell_type": "code",
      "metadata": {
        "colab": {
          "base_uri": "https://localhost:8080/",
          "height": 380
        },
        "id": "aLp4gfQuwa8W",
        "outputId": "3a9f2256-7661-4ae1-d0b8-1861a1efcec1"
      },
      "source": [
        "wine_data = pd.concat([redwine_datacleaned, whitewine_datacleaned], ignore_index=True)\n",
        "wine_data.head(10)\n"
      ],
      "execution_count": 146,
      "outputs": [
        {
          "output_type": "execute_result",
          "data": {
            "text/html": [
              "<div>\n",
              "<style scoped>\n",
              "    .dataframe tbody tr th:only-of-type {\n",
              "        vertical-align: middle;\n",
              "    }\n",
              "\n",
              "    .dataframe tbody tr th {\n",
              "        vertical-align: top;\n",
              "    }\n",
              "\n",
              "    .dataframe thead th {\n",
              "        text-align: right;\n",
              "    }\n",
              "</style>\n",
              "<table border=\"1\" class=\"dataframe\">\n",
              "  <thead>\n",
              "    <tr style=\"text-align: right;\">\n",
              "      <th></th>\n",
              "      <th>fixed acidity</th>\n",
              "      <th>volatile acidity</th>\n",
              "      <th>citric acid</th>\n",
              "      <th>residual sugar</th>\n",
              "      <th>chlorides</th>\n",
              "      <th>free sulfur dioxide</th>\n",
              "      <th>total sulfur dioxide</th>\n",
              "      <th>density</th>\n",
              "      <th>pH</th>\n",
              "      <th>sulphates</th>\n",
              "      <th>alcohol</th>\n",
              "      <th>quality</th>\n",
              "      <th>Type</th>\n",
              "    </tr>\n",
              "  </thead>\n",
              "  <tbody>\n",
              "    <tr>\n",
              "      <th>0</th>\n",
              "      <td>7.4</td>\n",
              "      <td>0.70</td>\n",
              "      <td>0.00</td>\n",
              "      <td>1.9</td>\n",
              "      <td>0.076</td>\n",
              "      <td>11.0</td>\n",
              "      <td>34.0</td>\n",
              "      <td>0.9978</td>\n",
              "      <td>3.51</td>\n",
              "      <td>0.56</td>\n",
              "      <td>9.4</td>\n",
              "      <td>5</td>\n",
              "      <td>Red</td>\n",
              "    </tr>\n",
              "    <tr>\n",
              "      <th>1</th>\n",
              "      <td>7.8</td>\n",
              "      <td>0.88</td>\n",
              "      <td>0.00</td>\n",
              "      <td>2.6</td>\n",
              "      <td>0.098</td>\n",
              "      <td>25.0</td>\n",
              "      <td>67.0</td>\n",
              "      <td>0.9968</td>\n",
              "      <td>3.20</td>\n",
              "      <td>0.68</td>\n",
              "      <td>9.8</td>\n",
              "      <td>5</td>\n",
              "      <td>Red</td>\n",
              "    </tr>\n",
              "    <tr>\n",
              "      <th>2</th>\n",
              "      <td>7.8</td>\n",
              "      <td>0.76</td>\n",
              "      <td>0.04</td>\n",
              "      <td>2.3</td>\n",
              "      <td>0.092</td>\n",
              "      <td>15.0</td>\n",
              "      <td>54.0</td>\n",
              "      <td>0.9970</td>\n",
              "      <td>3.26</td>\n",
              "      <td>0.65</td>\n",
              "      <td>9.8</td>\n",
              "      <td>5</td>\n",
              "      <td>Red</td>\n",
              "    </tr>\n",
              "    <tr>\n",
              "      <th>3</th>\n",
              "      <td>11.2</td>\n",
              "      <td>0.28</td>\n",
              "      <td>0.56</td>\n",
              "      <td>1.9</td>\n",
              "      <td>0.075</td>\n",
              "      <td>17.0</td>\n",
              "      <td>60.0</td>\n",
              "      <td>0.9980</td>\n",
              "      <td>3.16</td>\n",
              "      <td>0.58</td>\n",
              "      <td>9.8</td>\n",
              "      <td>6</td>\n",
              "      <td>Red</td>\n",
              "    </tr>\n",
              "    <tr>\n",
              "      <th>4</th>\n",
              "      <td>7.4</td>\n",
              "      <td>0.70</td>\n",
              "      <td>0.00</td>\n",
              "      <td>1.9</td>\n",
              "      <td>0.076</td>\n",
              "      <td>11.0</td>\n",
              "      <td>34.0</td>\n",
              "      <td>0.9978</td>\n",
              "      <td>3.51</td>\n",
              "      <td>0.56</td>\n",
              "      <td>9.4</td>\n",
              "      <td>5</td>\n",
              "      <td>Red</td>\n",
              "    </tr>\n",
              "    <tr>\n",
              "      <th>5</th>\n",
              "      <td>7.4</td>\n",
              "      <td>0.66</td>\n",
              "      <td>0.00</td>\n",
              "      <td>1.8</td>\n",
              "      <td>0.075</td>\n",
              "      <td>13.0</td>\n",
              "      <td>40.0</td>\n",
              "      <td>0.9978</td>\n",
              "      <td>3.51</td>\n",
              "      <td>0.56</td>\n",
              "      <td>9.4</td>\n",
              "      <td>5</td>\n",
              "      <td>Red</td>\n",
              "    </tr>\n",
              "    <tr>\n",
              "      <th>6</th>\n",
              "      <td>7.9</td>\n",
              "      <td>0.60</td>\n",
              "      <td>0.06</td>\n",
              "      <td>1.6</td>\n",
              "      <td>0.069</td>\n",
              "      <td>15.0</td>\n",
              "      <td>59.0</td>\n",
              "      <td>0.9964</td>\n",
              "      <td>3.30</td>\n",
              "      <td>0.46</td>\n",
              "      <td>9.4</td>\n",
              "      <td>5</td>\n",
              "      <td>Red</td>\n",
              "    </tr>\n",
              "    <tr>\n",
              "      <th>7</th>\n",
              "      <td>7.3</td>\n",
              "      <td>0.65</td>\n",
              "      <td>0.00</td>\n",
              "      <td>1.2</td>\n",
              "      <td>0.065</td>\n",
              "      <td>15.0</td>\n",
              "      <td>21.0</td>\n",
              "      <td>0.9946</td>\n",
              "      <td>3.39</td>\n",
              "      <td>0.47</td>\n",
              "      <td>10.0</td>\n",
              "      <td>7</td>\n",
              "      <td>Red</td>\n",
              "    </tr>\n",
              "    <tr>\n",
              "      <th>8</th>\n",
              "      <td>7.8</td>\n",
              "      <td>0.58</td>\n",
              "      <td>0.02</td>\n",
              "      <td>2.0</td>\n",
              "      <td>0.073</td>\n",
              "      <td>9.0</td>\n",
              "      <td>18.0</td>\n",
              "      <td>0.9968</td>\n",
              "      <td>3.36</td>\n",
              "      <td>0.57</td>\n",
              "      <td>9.5</td>\n",
              "      <td>7</td>\n",
              "      <td>Red</td>\n",
              "    </tr>\n",
              "    <tr>\n",
              "      <th>9</th>\n",
              "      <td>6.7</td>\n",
              "      <td>0.58</td>\n",
              "      <td>0.08</td>\n",
              "      <td>1.8</td>\n",
              "      <td>0.097</td>\n",
              "      <td>15.0</td>\n",
              "      <td>65.0</td>\n",
              "      <td>0.9959</td>\n",
              "      <td>3.28</td>\n",
              "      <td>0.54</td>\n",
              "      <td>9.2</td>\n",
              "      <td>5</td>\n",
              "      <td>Red</td>\n",
              "    </tr>\n",
              "  </tbody>\n",
              "</table>\n",
              "</div>"
            ],
            "text/plain": [
              "   fixed acidity  volatile acidity  citric acid  ...  alcohol  quality  Type\n",
              "0            7.4              0.70         0.00  ...      9.4        5   Red\n",
              "1            7.8              0.88         0.00  ...      9.8        5   Red\n",
              "2            7.8              0.76         0.04  ...      9.8        5   Red\n",
              "3           11.2              0.28         0.56  ...      9.8        6   Red\n",
              "4            7.4              0.70         0.00  ...      9.4        5   Red\n",
              "5            7.4              0.66         0.00  ...      9.4        5   Red\n",
              "6            7.9              0.60         0.06  ...      9.4        5   Red\n",
              "7            7.3              0.65         0.00  ...     10.0        7   Red\n",
              "8            7.8              0.58         0.02  ...      9.5        7   Red\n",
              "9            6.7              0.58         0.08  ...      9.2        5   Red\n",
              "\n",
              "[10 rows x 13 columns]"
            ]
          },
          "metadata": {},
          "execution_count": 146
        }
      ]
    },
    {
      "cell_type": "code",
      "metadata": {
        "id": "li5IhEznwa-k"
      },
      "source": [
        "#remove type and just keep quality as label\n",
        "temp_wine = wine_data.loc[:,wine_data.columns != 'Type']\n",
        "temp_wine = temp_wine.loc[:,temp_wine.columns != 'Type']\n",
        "\n",
        "#Label the quality column\n",
        "label = temp_wine.pop('quality')\n"
      ],
      "execution_count": 147,
      "outputs": []
    },
    {
      "cell_type": "code",
      "metadata": {
        "colab": {
          "base_uri": "https://localhost:8080/"
        },
        "id": "nAtJYAUGwbAt",
        "outputId": "00ad5f62-bcaa-41cc-ac90-68e363210210"
      },
      "source": [
        "#Train/Test data and check shape\n",
        "from sklearn.model_selection import train_test_split\n",
        "data_train, data_test, label_train, label_test = train_test_split(temp_wine, label, test_size = 0.2, random_state = 42)\n",
        "\n",
        "print('There are {} samples in the training set and {} samples in the test set'.format(data_train.shape[0], data_test.shape[0]))"
      ],
      "execution_count": 148,
      "outputs": [
        {
          "output_type": "stream",
          "name": "stdout",
          "text": [
            "There are 4531 samples in the training set and 1133 samples in the test set\n"
          ]
        }
      ]
    },
    {
      "cell_type": "markdown",
      "metadata": {
        "id": "XO2mFWH_3njQ"
      },
      "source": [
        "**3.1 KNN**"
      ]
    },
    {
      "cell_type": "code",
      "metadata": {
        "id": "I2h11E1twbCy"
      },
      "source": [
        "from sklearn.neighbors import KNeighborsClassifier\n",
        "knn = KNeighborsClassifier(n_neighbors=7, p=2, metric='minkowski') "
      ],
      "execution_count": 149,
      "outputs": []
    },
    {
      "cell_type": "code",
      "metadata": {
        "colab": {
          "base_uri": "https://localhost:8080/"
        },
        "id": "kJK6B4vYwbE9",
        "outputId": "a7a3831c-523f-469b-95f2-f56d5417fa80"
      },
      "source": [
        "#Fit the Model\n",
        "knn.fit(data_train, label_train)"
      ],
      "execution_count": 150,
      "outputs": [
        {
          "output_type": "execute_result",
          "data": {
            "text/plain": [
              "KNeighborsClassifier(n_neighbors=7)"
            ]
          },
          "metadata": {},
          "execution_count": 150
        }
      ]
    },
    {
      "cell_type": "code",
      "metadata": {
        "id": "DLIFw2lSwbHF"
      },
      "source": [
        "#Use the model for prediction\n",
        "y_preds = knn.predict(data_test)"
      ],
      "execution_count": 151,
      "outputs": []
    },
    {
      "cell_type": "code",
      "metadata": {
        "id": "G9cHUfV_vlSI",
        "colab": {
          "base_uri": "https://localhost:8080/"
        },
        "outputId": "ecd24e12-5e8e-4acc-e91b-ffd1a0de1fce"
      },
      "source": [
        "#Model evaluation using accuracy score\n",
        "from sklearn.metrics import accuracy_score\n",
        "knn_accuracy = accuracy_score(label_test,y_preds)\n",
        "print('Accuracy score for the KNN model:', knn_accuracy)"
      ],
      "execution_count": 152,
      "outputs": [
        {
          "output_type": "stream",
          "name": "stdout",
          "text": [
            "Accuracy score for the KNN model: 0.47572815533980584\n"
          ]
        }
      ]
    },
    {
      "cell_type": "code",
      "metadata": {
        "colab": {
          "base_uri": "https://localhost:8080/",
          "height": 1000
        },
        "id": "eYikQU_x34N_",
        "outputId": "bd6e6e8a-bb13-4cf4-f30e-21916378a46d"
      },
      "source": [
        "xAxis = list()\n",
        "yAxis = list()\n",
        "for i in range(4,51,1):\n",
        "  knn = KNeighborsClassifier(n_neighbors=i, p=2, metric='minkowski') \n",
        "\n",
        "  #Fit the model\n",
        "  knn.fit(data_train, label_train)\n",
        "  xAxis.append(i)\n",
        "  #Use the model for pridiction\n",
        "  y_preds = knn.predict(data_test)\n",
        "  \n",
        "  #Model evaluation - check the accuracy score\n",
        "  knn_accuracy = accuracy_score(label_test,y_preds)\n",
        "  yAxis.append(round(knn_accuracy,4))\n",
        "  print('Accuracy score for the KNN model with n_neighbors=', i,\":\",round(knn_accuracy,4))\n",
        "\n",
        "linedata = pd.DataFrame({'X_Axis' : xAxis,\n",
        "                         'Y_Axis' : yAxis})\n",
        "\n",
        "#plot the line graph\n",
        "fig, ax = plt.subplots(figsize=(15,8))\n",
        "#sns.set_style(\"ticks\")\n",
        "sns.set_style(\"whitegrid\")\n",
        "sns.lineplot(x = 'X_Axis',y = 'Y_Axis', data=linedata,ax=ax)\n",
        "\n",
        "knn_accuracy = max(yAxis)"
      ],
      "execution_count": 153,
      "outputs": [
        {
          "output_type": "stream",
          "name": "stdout",
          "text": [
            "Accuracy score for the KNN model with n_neighbors= 4 : 0.4837\n",
            "Accuracy score for the KNN model with n_neighbors= 5 : 0.4775\n",
            "Accuracy score for the KNN model with n_neighbors= 6 : 0.466\n",
            "Accuracy score for the KNN model with n_neighbors= 7 : 0.4757\n",
            "Accuracy score for the KNN model with n_neighbors= 8 : 0.4678\n",
            "Accuracy score for the KNN model with n_neighbors= 9 : 0.4722\n",
            "Accuracy score for the KNN model with n_neighbors= 10 : 0.4722\n",
            "Accuracy score for the KNN model with n_neighbors= 11 : 0.4784\n",
            "Accuracy score for the KNN model with n_neighbors= 12 : 0.4784\n",
            "Accuracy score for the KNN model with n_neighbors= 13 : 0.4801\n",
            "Accuracy score for the KNN model with n_neighbors= 14 : 0.474\n",
            "Accuracy score for the KNN model with n_neighbors= 15 : 0.4731\n",
            "Accuracy score for the KNN model with n_neighbors= 16 : 0.4713\n",
            "Accuracy score for the KNN model with n_neighbors= 17 : 0.4784\n",
            "Accuracy score for the KNN model with n_neighbors= 18 : 0.474\n",
            "Accuracy score for the KNN model with n_neighbors= 19 : 0.4722\n",
            "Accuracy score for the KNN model with n_neighbors= 20 : 0.4801\n",
            "Accuracy score for the KNN model with n_neighbors= 21 : 0.4643\n",
            "Accuracy score for the KNN model with n_neighbors= 22 : 0.4722\n",
            "Accuracy score for the KNN model with n_neighbors= 23 : 0.4748\n",
            "Accuracy score for the KNN model with n_neighbors= 24 : 0.4687\n",
            "Accuracy score for the KNN model with n_neighbors= 25 : 0.4775\n",
            "Accuracy score for the KNN model with n_neighbors= 26 : 0.4793\n",
            "Accuracy score for the KNN model with n_neighbors= 27 : 0.4863\n",
            "Accuracy score for the KNN model with n_neighbors= 28 : 0.4898\n",
            "Accuracy score for the KNN model with n_neighbors= 29 : 0.489\n",
            "Accuracy score for the KNN model with n_neighbors= 30 : 0.481\n",
            "Accuracy score for the KNN model with n_neighbors= 31 : 0.4837\n",
            "Accuracy score for the KNN model with n_neighbors= 32 : 0.4775\n",
            "Accuracy score for the KNN model with n_neighbors= 33 : 0.481\n",
            "Accuracy score for the KNN model with n_neighbors= 34 : 0.4775\n",
            "Accuracy score for the KNN model with n_neighbors= 35 : 0.4819\n",
            "Accuracy score for the KNN model with n_neighbors= 36 : 0.4854\n",
            "Accuracy score for the KNN model with n_neighbors= 37 : 0.4784\n",
            "Accuracy score for the KNN model with n_neighbors= 38 : 0.4695\n",
            "Accuracy score for the KNN model with n_neighbors= 39 : 0.4678\n",
            "Accuracy score for the KNN model with n_neighbors= 40 : 0.4731\n",
            "Accuracy score for the KNN model with n_neighbors= 41 : 0.474\n",
            "Accuracy score for the KNN model with n_neighbors= 42 : 0.4687\n",
            "Accuracy score for the KNN model with n_neighbors= 43 : 0.474\n",
            "Accuracy score for the KNN model with n_neighbors= 44 : 0.4793\n",
            "Accuracy score for the KNN model with n_neighbors= 45 : 0.4748\n",
            "Accuracy score for the KNN model with n_neighbors= 46 : 0.4748\n",
            "Accuracy score for the KNN model with n_neighbors= 47 : 0.474\n",
            "Accuracy score for the KNN model with n_neighbors= 48 : 0.4687\n",
            "Accuracy score for the KNN model with n_neighbors= 49 : 0.4704\n",
            "Accuracy score for the KNN model with n_neighbors= 50 : 0.4713\n"
          ]
        },
        {
          "output_type": "display_data",
          "data": {
            "image/png": "[encoded data removed]",
            "text/plain": [
              "<Figure size 1080x576 with 1 Axes>"
            ]
          },
          "metadata": {}
        }
      ]
    },
    {
      "cell_type": "markdown",
      "metadata": {
        "id": "jjgqILom4Q7i"
      },
      "source": [
        "**3.2 Bayes**"
      ]
    },
    {
      "cell_type": "code",
      "metadata": {
        "id": "Wpx04jlk34QZ"
      },
      "source": [
        "from sklearn.naive_bayes import GaussianNB\n",
        "bayes = GaussianNB()"
      ],
      "execution_count": 154,
      "outputs": []
    },
    {
      "cell_type": "code",
      "metadata": {
        "colab": {
          "base_uri": "https://localhost:8080/"
        },
        "id": "1hctzyoK34Sz",
        "outputId": "0a482cae-f6ae-48ae-de1a-3f9513b51e28"
      },
      "source": [
        "bayes.fit(data_train, label_train)"
      ],
      "execution_count": 155,
      "outputs": [
        {
          "output_type": "execute_result",
          "data": {
            "text/plain": [
              "GaussianNB()"
            ]
          },
          "metadata": {},
          "execution_count": 155
        }
      ]
    },
    {
      "cell_type": "code",
      "metadata": {
        "id": "CF5EpRf334WV"
      },
      "source": [
        "y_pred = bayes.predict(data_test)"
      ],
      "execution_count": 156,
      "outputs": []
    },
    {
      "cell_type": "code",
      "metadata": {
        "colab": {
          "base_uri": "https://localhost:8080/"
        },
        "id": "Mcjqjq-P34aN",
        "outputId": "b92bd8f7-9d5c-44a3-c6b0-5756a1b2217b"
      },
      "source": [
        "from sklearn.metrics import accuracy_score\n",
        "bayes_accuracy = accuracy_score(label_test, y_pred)\n",
        "print('Accuracy score for the Bayes model:', bayes_accuracy)"
      ],
      "execution_count": 157,
      "outputs": [
        {
          "output_type": "stream",
          "name": "stdout",
          "text": [
            "Accuracy score for the Bayes model: 0.45366284201235657\n"
          ]
        }
      ]
    },
    {
      "cell_type": "markdown",
      "metadata": {
        "id": "u1mF1jT_5n6w"
      },
      "source": [
        "**3.3 So sánh**"
      ]
    },
    {
      "cell_type": "code",
      "metadata": {
        "colab": {
          "base_uri": "https://localhost:8080/",
          "height": 143
        },
        "id": "ZxWFV9WL34ck",
        "outputId": "67b68313-58c9-4026-f281-185a4aee2a64"
      },
      "source": [
        "model3 = pd.DataFrame({\n",
        "        'ModelName'         : ['Model 3'],\n",
        "        'Scaled?'           : ['No'],\n",
        "        'Outliers?'         : ['Yes'],\n",
        "        'Include Type?'     : ['No'],\n",
        "        'Added Category?'   : ['No'],\n",
        "        'Bayes_score'       : [bayes_accuracy],\n",
        "        'KNN_score'         : [knn_accuracy]\n",
        "    })\n",
        "models = models.append(model3,ignore_index=True)\n",
        "models.drop_duplicates(subset = None, keep = 'first', inplace = True) \n",
        "models.sort_values(by='ModelName', ascending=True)\n",
        "\n",
        "models"
      ],
      "execution_count": 158,
      "outputs": [
        {
          "output_type": "execute_result",
          "data": {
            "text/html": [
              "<div>\n",
              "<style scoped>\n",
              "    .dataframe tbody tr th:only-of-type {\n",
              "        vertical-align: middle;\n",
              "    }\n",
              "\n",
              "    .dataframe tbody tr th {\n",
              "        vertical-align: top;\n",
              "    }\n",
              "\n",
              "    .dataframe thead th {\n",
              "        text-align: right;\n",
              "    }\n",
              "</style>\n",
              "<table border=\"1\" class=\"dataframe\">\n",
              "  <thead>\n",
              "    <tr style=\"text-align: right;\">\n",
              "      <th></th>\n",
              "      <th>ModelName</th>\n",
              "      <th>Scaled?</th>\n",
              "      <th>Outliers?</th>\n",
              "      <th>Include Type?</th>\n",
              "      <th>Added Category?</th>\n",
              "      <th>Bayes_score</th>\n",
              "      <th>KNN_score</th>\n",
              "    </tr>\n",
              "  </thead>\n",
              "  <tbody>\n",
              "    <tr>\n",
              "      <th>0</th>\n",
              "      <td>Model 1</td>\n",
              "      <td>No</td>\n",
              "      <td>No</td>\n",
              "      <td>No</td>\n",
              "      <td>No</td>\n",
              "      <td>0.469231</td>\n",
              "      <td>0.482308</td>\n",
              "    </tr>\n",
              "    <tr>\n",
              "      <th>1</th>\n",
              "      <td>Model 2</td>\n",
              "      <td>No</td>\n",
              "      <td>No</td>\n",
              "      <td>Yes</td>\n",
              "      <td>Yes</td>\n",
              "      <td>0.726154</td>\n",
              "      <td>0.807700</td>\n",
              "    </tr>\n",
              "    <tr>\n",
              "      <th>2</th>\n",
              "      <td>Model 3</td>\n",
              "      <td>No</td>\n",
              "      <td>Yes</td>\n",
              "      <td>No</td>\n",
              "      <td>No</td>\n",
              "      <td>0.453663</td>\n",
              "      <td>0.489800</td>\n",
              "    </tr>\n",
              "  </tbody>\n",
              "</table>\n",
              "</div>"
            ],
            "text/plain": [
              "  ModelName Scaled? Outliers?  ... Added Category? Bayes_score  KNN_score\n",
              "0   Model 1      No        No  ...              No    0.469231   0.482308\n",
              "1   Model 2      No        No  ...             Yes    0.726154   0.807700\n",
              "2   Model 3      No       Yes  ...              No    0.453663   0.489800\n",
              "\n",
              "[3 rows x 7 columns]"
            ]
          },
          "metadata": {},
          "execution_count": 158
        }
      ]
    },
    {
      "cell_type": "markdown",
      "metadata": {
        "id": "W6Rxl_4Y8cz-"
      },
      "source": [
        "# **4. So sánh Bayes và kNN với dữ liệu đã xử lý ngoại lệ, chưa scale, gồm cột Type và chia cột Quality thành 3 nhóm giá trị (Kém: 1, Trung bình: 2, Tốt: 3)**"
      ]
    },
    {
      "cell_type": "code",
      "metadata": {
        "id": "zNN-Pja-5qja"
      },
      "source": [
        "wine_data = pd.concat([redwine_datacleaned, whitewine_datacleaned], ignore_index=True)\n",
        "\n",
        "#Get dummies for Type\n",
        "wine_data = pd.get_dummies(wine_data, columns=['Type'], drop_first=True)"
      ],
      "execution_count": 159,
      "outputs": []
    },
    {
      "cell_type": "code",
      "metadata": {
        "id": "HdvZa-VC5ql0"
      },
      "source": [
        "#create the 3 new category\n",
        "wine_data['qualityclass'] = wine_data.apply(lambda x: 1 if x['quality'] <= 3 else 2 if (x['quality'] > 3 and x['quality'] <= 6) else 3,axis=1)"
      ],
      "execution_count": 160,
      "outputs": []
    },
    {
      "cell_type": "code",
      "metadata": {
        "id": "XmB4GS3y5qoM"
      },
      "source": [
        "#Remove type after dummification\n",
        "temp_wine = wine_data.loc[:,wine_data.columns != 'Type']\n",
        "temp_wine = temp_wine.loc[:,wine_data.columns != 'quality']\n",
        "\n",
        "#Label the qualityclass column\n",
        "label = temp_wine.pop('qualityclass')\n"
      ],
      "execution_count": 161,
      "outputs": []
    },
    {
      "cell_type": "code",
      "metadata": {
        "colab": {
          "base_uri": "https://localhost:8080/"
        },
        "id": "j8gZbXsS5qrD",
        "outputId": "6d9df905-49e3-440f-893d-e9b0e1f8e5eb"
      },
      "source": [
        "#Train/Test data and check shape\n",
        "from sklearn.model_selection import train_test_split\n",
        "\n",
        "data_train, data_test, label_train, label_test = train_test_split(temp_wine, label, test_size = 0.2, random_state = 42)\n",
        "\n",
        "print('There are {} samples in the training set and {} samples in the test set'.format(data_train.shape[0], data_test.shape[0]))"
      ],
      "execution_count": 162,
      "outputs": [
        {
          "output_type": "stream",
          "name": "stdout",
          "text": [
            "There are 4531 samples in the training set and 1133 samples in the test set\n"
          ]
        }
      ]
    },
    {
      "cell_type": "markdown",
      "metadata": {
        "id": "M0gDXIrm9d1I"
      },
      "source": [
        " **4.1 KNN**"
      ]
    },
    {
      "cell_type": "code",
      "metadata": {
        "colab": {
          "base_uri": "https://localhost:8080/"
        },
        "id": "BXSYcirR5qtw",
        "outputId": "57dbcc45-b746-4436-9860-e1f0acb06b27"
      },
      "source": [
        "#Modelling and prediction\n",
        "from sklearn.neighbors import KNeighborsClassifier\n",
        "knn = KNeighborsClassifier(n_neighbors=7, p=2, metric='minkowski') \n",
        "\n",
        "#Fit the Model\n",
        "knn.fit(data_train, label_train)\n",
        "\n",
        "#Use the model for prediction\n",
        "y_preds = knn.predict(data_test)\n",
        "\n",
        "#Model evaluation using accuracy score\n",
        "from sklearn.metrics import accuracy_score\n",
        "knn_accuracy = accuracy_score(label_test,y_preds)\n",
        "print('Accuracy score for the KNN model:', knn_accuracy)"
      ],
      "execution_count": 163,
      "outputs": [
        {
          "output_type": "stream",
          "name": "stdout",
          "text": [
            "Accuracy score for the KNN model: 0.8049426301853486\n"
          ]
        }
      ]
    },
    {
      "cell_type": "code",
      "metadata": {
        "colab": {
          "base_uri": "https://localhost:8080/",
          "height": 1000
        },
        "id": "eCEAy9TH5qxn",
        "outputId": "4c2df7de-93b8-43cc-e42e-5ed6fdad9b7c"
      },
      "source": [
        "#TRYING DIFFERENT NEIGHBOURS\n",
        "xAxis = list()\n",
        "yAxis = list()\n",
        "for i in range(4,51,1):\n",
        "  knn = KNeighborsClassifier(n_neighbors=i, p=2, metric='minkowski') \n",
        "\n",
        "  #Fit the model\n",
        "  knn.fit(data_train, label_train)\n",
        "  xAxis.append(i)\n",
        "  #Use the model for pridiction\n",
        "  y_preds = knn.predict(data_test)\n",
        "  \n",
        "  #Model evaluation - check the accuracy score\n",
        "  knn_accuracy = accuracy_score(label_test,y_preds)\n",
        "  yAxis.append(round(knn_accuracy,4))\n",
        "  print('Accuracy score for the KNN model with n_neighbors=', i,\":\",round(knn_accuracy,4))\n",
        "\n",
        "linedata = pd.DataFrame({'X_Axis' : xAxis,\n",
        "                         'Y_Axis' : yAxis})\n",
        "#print(linedata)\n",
        "#plot the line graph\n",
        "fig, ax = plt.subplots(figsize=(15,8))\n",
        "#sns.set_style(\"ticks\")\n",
        "sns.set_style(\"whitegrid\")\n",
        "sns.lineplot(x = 'X_Axis',y = 'Y_Axis', data=linedata,ax=ax)\n",
        "\n",
        "knn_accuracy = max(yAxis)"
      ],
      "execution_count": 164,
      "outputs": [
        {
          "output_type": "stream",
          "name": "stdout",
          "text": [
            "Accuracy score for the KNN model with n_neighbors= 4 : 0.8155\n",
            "Accuracy score for the KNN model with n_neighbors= 5 : 0.7979\n",
            "Accuracy score for the KNN model with n_neighbors= 6 : 0.812\n",
            "Accuracy score for the KNN model with n_neighbors= 7 : 0.8049\n",
            "Accuracy score for the KNN model with n_neighbors= 8 : 0.8076\n",
            "Accuracy score for the KNN model with n_neighbors= 9 : 0.8067\n",
            "Accuracy score for the KNN model with n_neighbors= 10 : 0.7979\n",
            "Accuracy score for the KNN model with n_neighbors= 11 : 0.7952\n",
            "Accuracy score for the KNN model with n_neighbors= 12 : 0.8014\n",
            "Accuracy score for the KNN model with n_neighbors= 13 : 0.7979\n",
            "Accuracy score for the KNN model with n_neighbors= 14 : 0.8041\n",
            "Accuracy score for the KNN model with n_neighbors= 15 : 0.7917\n",
            "Accuracy score for the KNN model with n_neighbors= 16 : 0.8049\n",
            "Accuracy score for the KNN model with n_neighbors= 17 : 0.797\n",
            "Accuracy score for the KNN model with n_neighbors= 18 : 0.8041\n",
            "Accuracy score for the KNN model with n_neighbors= 19 : 0.797\n",
            "Accuracy score for the KNN model with n_neighbors= 20 : 0.8023\n",
            "Accuracy score for the KNN model with n_neighbors= 21 : 0.7899\n",
            "Accuracy score for the KNN model with n_neighbors= 22 : 0.7996\n",
            "Accuracy score for the KNN model with n_neighbors= 23 : 0.7996\n",
            "Accuracy score for the KNN model with n_neighbors= 24 : 0.7996\n",
            "Accuracy score for the KNN model with n_neighbors= 25 : 0.797\n",
            "Accuracy score for the KNN model with n_neighbors= 26 : 0.797\n",
            "Accuracy score for the KNN model with n_neighbors= 27 : 0.7944\n",
            "Accuracy score for the KNN model with n_neighbors= 28 : 0.7988\n",
            "Accuracy score for the KNN model with n_neighbors= 29 : 0.7926\n",
            "Accuracy score for the KNN model with n_neighbors= 30 : 0.7996\n",
            "Accuracy score for the KNN model with n_neighbors= 31 : 0.7988\n",
            "Accuracy score for the KNN model with n_neighbors= 32 : 0.7979\n",
            "Accuracy score for the KNN model with n_neighbors= 33 : 0.7961\n",
            "Accuracy score for the KNN model with n_neighbors= 34 : 0.7979\n",
            "Accuracy score for the KNN model with n_neighbors= 35 : 0.7996\n",
            "Accuracy score for the KNN model with n_neighbors= 36 : 0.8014\n",
            "Accuracy score for the KNN model with n_neighbors= 37 : 0.8014\n",
            "Accuracy score for the KNN model with n_neighbors= 38 : 0.7988\n",
            "Accuracy score for the KNN model with n_neighbors= 39 : 0.7996\n",
            "Accuracy score for the KNN model with n_neighbors= 40 : 0.7988\n",
            "Accuracy score for the KNN model with n_neighbors= 41 : 0.7979\n",
            "Accuracy score for the KNN model with n_neighbors= 42 : 0.7996\n",
            "Accuracy score for the KNN model with n_neighbors= 43 : 0.7979\n",
            "Accuracy score for the KNN model with n_neighbors= 44 : 0.7988\n",
            "Accuracy score for the KNN model with n_neighbors= 45 : 0.7961\n",
            "Accuracy score for the KNN model with n_neighbors= 46 : 0.7979\n",
            "Accuracy score for the KNN model with n_neighbors= 47 : 0.7961\n",
            "Accuracy score for the KNN model with n_neighbors= 48 : 0.7988\n",
            "Accuracy score for the KNN model with n_neighbors= 49 : 0.8005\n",
            "Accuracy score for the KNN model with n_neighbors= 50 : 0.797\n"
          ]
        },
        {
          "output_type": "display_data",
          "data": {
            "image/png": "[encoded data removed]",
            "text/plain": [
              "<Figure size 1080x576 with 1 Axes>"
            ]
          },
          "metadata": {}
        }
      ]
    },
    {
      "cell_type": "markdown",
      "metadata": {
        "id": "3qfZ4fsA9z2g"
      },
      "source": [
        "**4.2 Bayes**"
      ]
    },
    {
      "cell_type": "code",
      "metadata": {
        "colab": {
          "base_uri": "https://localhost:8080/"
        },
        "id": "IGHzJXQM9xUo",
        "outputId": "dbd5094d-1534-4d0b-d6c9-08aae1df9494"
      },
      "source": [
        "from sklearn.naive_bayes import GaussianNB\n",
        "bayes = GaussianNB()\n",
        "\n",
        "bayes.fit(data_train, label_train)\n",
        "\n",
        "y_pred = bayes.predict(data_test)\n",
        "\n",
        "from sklearn.metrics import accuracy_score\n",
        "bayes_accuracy = accuracy_score(label_test, y_pred)\n",
        "print('Accuracy score for the Bayes model:', bayes_accuracy)"
      ],
      "execution_count": 165,
      "outputs": [
        {
          "output_type": "stream",
          "name": "stdout",
          "text": [
            "Accuracy score for the Bayes model: 0.6954986760812003\n"
          ]
        }
      ]
    },
    {
      "cell_type": "markdown",
      "metadata": {
        "id": "e15l6y1c-H1F"
      },
      "source": [
        "**4.3 So sánh**"
      ]
    },
    {
      "cell_type": "code",
      "metadata": {
        "colab": {
          "base_uri": "https://localhost:8080/",
          "height": 174
        },
        "id": "5N80OUbP9xX0",
        "outputId": "c7ae5008-09e7-462c-8c8b-a156060a3afe"
      },
      "source": [
        "model4 = pd.DataFrame({\n",
        "        'ModelName'         : ['Model 4'],\n",
        "        'Scaled?'           : ['No'],\n",
        "        'Outliers?'         : ['Yes'],\n",
        "        'Include Type?'     : ['Yes'],\n",
        "        'Added Category?'   : ['Yes'],\n",
        "        'Bayes_score'       : [bayes_accuracy],\n",
        "        'KNN_score'         : [knn_accuracy]\n",
        "    })\n",
        "models = models.append(model4,ignore_index=True)\n",
        "models.drop_duplicates(subset = None, keep = 'first', inplace = True) \n",
        "models.sort_values(by='ModelName', ascending=True)\n",
        "\n",
        "models"
      ],
      "execution_count": 166,
      "outputs": [
        {
          "output_type": "execute_result",
          "data": {
            "text/html": [
              "<div>\n",
              "<style scoped>\n",
              "    .dataframe tbody tr th:only-of-type {\n",
              "        vertical-align: middle;\n",
              "    }\n",
              "\n",
              "    .dataframe tbody tr th {\n",
              "        vertical-align: top;\n",
              "    }\n",
              "\n",
              "    .dataframe thead th {\n",
              "        text-align: right;\n",
              "    }\n",
              "</style>\n",
              "<table border=\"1\" class=\"dataframe\">\n",
              "  <thead>\n",
              "    <tr style=\"text-align: right;\">\n",
              "      <th></th>\n",
              "      <th>ModelName</th>\n",
              "      <th>Scaled?</th>\n",
              "      <th>Outliers?</th>\n",
              "      <th>Include Type?</th>\n",
              "      <th>Added Category?</th>\n",
              "      <th>Bayes_score</th>\n",
              "      <th>KNN_score</th>\n",
              "    </tr>\n",
              "  </thead>\n",
              "  <tbody>\n",
              "    <tr>\n",
              "      <th>0</th>\n",
              "      <td>Model 1</td>\n",
              "      <td>No</td>\n",
              "      <td>No</td>\n",
              "      <td>No</td>\n",
              "      <td>No</td>\n",
              "      <td>0.469231</td>\n",
              "      <td>0.482308</td>\n",
              "    </tr>\n",
              "    <tr>\n",
              "      <th>1</th>\n",
              "      <td>Model 2</td>\n",
              "      <td>No</td>\n",
              "      <td>No</td>\n",
              "      <td>Yes</td>\n",
              "      <td>Yes</td>\n",
              "      <td>0.726154</td>\n",
              "      <td>0.807700</td>\n",
              "    </tr>\n",
              "    <tr>\n",
              "      <th>2</th>\n",
              "      <td>Model 3</td>\n",
              "      <td>No</td>\n",
              "      <td>Yes</td>\n",
              "      <td>No</td>\n",
              "      <td>No</td>\n",
              "      <td>0.453663</td>\n",
              "      <td>0.489800</td>\n",
              "    </tr>\n",
              "    <tr>\n",
              "      <th>3</th>\n",
              "      <td>Model 4</td>\n",
              "      <td>No</td>\n",
              "      <td>Yes</td>\n",
              "      <td>Yes</td>\n",
              "      <td>Yes</td>\n",
              "      <td>0.695499</td>\n",
              "      <td>0.815500</td>\n",
              "    </tr>\n",
              "  </tbody>\n",
              "</table>\n",
              "</div>"
            ],
            "text/plain": [
              "  ModelName Scaled? Outliers?  ... Added Category? Bayes_score  KNN_score\n",
              "0   Model 1      No        No  ...              No    0.469231   0.482308\n",
              "1   Model 2      No        No  ...             Yes    0.726154   0.807700\n",
              "2   Model 3      No       Yes  ...              No    0.453663   0.489800\n",
              "3   Model 4      No       Yes  ...             Yes    0.695499   0.815500\n",
              "\n",
              "[4 rows x 7 columns]"
            ]
          },
          "metadata": {},
          "execution_count": 166
        }
      ]
    },
    {
      "cell_type": "markdown",
      "metadata": {
        "id": "jkIfxNkPBtK_"
      },
      "source": [
        "# **5. So sánh Bayes và kNN với dữ liệu đã xử lý ngoại lệ, đã scale, gồm cột Type và chia cột Quality thành 3 nhóm giá trị (Kém: 1, Trung bình: 2, Tốt: 3)**"
      ]
    },
    {
      "cell_type": "code",
      "metadata": {
        "id": "IurzPuLY9xZe"
      },
      "source": [
        "wine_data = pd.concat([redwine_datacleaned, whitewine_datacleaned], ignore_index=True)\n",
        "\n",
        "#Get dummies for Type\n",
        "wine_data = pd.get_dummies(wine_data, columns=['Type'], drop_first=True)\n",
        "\n",
        "#create the 3 new category\n",
        "wine_data['qualityclass'] = wine_data.apply(lambda x: 1 if x['quality'] <= 3 else 2 if (x['quality'] > 3 and x['quality'] <= 6) else 3,axis=1)"
      ],
      "execution_count": 167,
      "outputs": []
    },
    {
      "cell_type": "code",
      "metadata": {
        "id": "TmbHF4Pd9xb8"
      },
      "source": [
        "#Remove type after dummification\n",
        "temp_wine = wine_data.loc[:,wine_data.columns != 'Type']\n",
        "temp_wine = temp_wine.loc[:,wine_data.columns != 'quality']\n",
        "\n",
        "#Label the qualityclass column\n",
        "label = temp_wine.pop('qualityclass')\n"
      ],
      "execution_count": 168,
      "outputs": []
    },
    {
      "cell_type": "code",
      "metadata": {
        "colab": {
          "base_uri": "https://localhost:8080/"
        },
        "id": "McZohULk9xec",
        "outputId": "5b28a664-30d4-4946-c58c-f1373957366a"
      },
      "source": [
        "# Using StandardScaler to standardize the data\n",
        "from sklearn.preprocessing import StandardScaler\n",
        "sc = StandardScaler()\n",
        "\n",
        "sc.fit(temp_wine)                                                                                 # fit the data to Standardscaler\n",
        "\n",
        "#wine_scale = temp_wine.copy()\n",
        "wine_scale = sc.transform(temp_wine)                                                               # transform the data\n",
        "\n",
        "print('After standardizing our features, the first 5 rows of our data now look like this:\\n')   # print the first 5 value after standardization\n",
        "print(pd.DataFrame(wine_scale, columns=temp_wine.columns).head())  "
      ],
      "execution_count": 169,
      "outputs": [
        {
          "output_type": "stream",
          "name": "stdout",
          "text": [
            "After standardizing our features, the first 5 rows of our data now look like this:\n",
            "\n",
            "   fixed acidity  volatile acidity  ...   alcohol  Type_White\n",
            "0       0.230708          2.252033  ... -0.952983   -1.808727\n",
            "1       0.577700          3.367098  ... -0.615631   -1.808727\n",
            "2       0.577700          2.623721  ... -0.615631   -1.808727\n",
            "3       3.527135         -0.349787  ... -0.615631   -1.808727\n",
            "4       0.230708          2.252033  ... -0.952983   -1.808727\n",
            "\n",
            "[5 rows x 12 columns]\n"
          ]
        }
      ]
    },
    {
      "cell_type": "code",
      "metadata": {
        "colab": {
          "base_uri": "https://localhost:8080/"
        },
        "id": "hVqPhDeW9xiE",
        "outputId": "e7266edc-1882-4991-f97d-41f1d17459cf"
      },
      "source": [
        "#Train/Test data and check shape\n",
        "from sklearn.model_selection import train_test_split\n",
        "data_train, data_test, label_train, label_test = train_test_split(wine_scale, label, test_size = 0.2, random_state = 42)\n",
        "\n",
        "print('There are {} samples in the training set and {} samples in the test set'.format(data_train.shape[0], data_test.shape[0]))"
      ],
      "execution_count": 170,
      "outputs": [
        {
          "output_type": "stream",
          "name": "stdout",
          "text": [
            "There are 4531 samples in the training set and 1133 samples in the test set\n"
          ]
        }
      ]
    },
    {
      "cell_type": "markdown",
      "metadata": {
        "id": "Ftcg65q9C8xk"
      },
      "source": [
        "**5.1 KNN**"
      ]
    },
    {
      "cell_type": "code",
      "metadata": {
        "colab": {
          "base_uri": "https://localhost:8080/"
        },
        "id": "Ubxr1tok9xjV",
        "outputId": "901369be-be95-4965-cc7e-461950104282"
      },
      "source": [
        "#Modelling and prediction\n",
        "from sklearn.neighbors import KNeighborsClassifier\n",
        "knn = KNeighborsClassifier(n_neighbors=7, p=2, metric='minkowski') \n",
        "\n",
        "#Fit the Model\n",
        "knn.fit(data_train, label_train)\n",
        "\n",
        "#Use the model for prediction\n",
        "y_preds = knn.predict(data_test)\n",
        "\n",
        "#Model evaluation using accuracy score\n",
        "from sklearn.metrics import accuracy_score\n",
        "knn_accuracy = accuracy_score(label_test,y_preds)\n",
        "print('Accuracy score for the KNN model:', knn_accuracy)"
      ],
      "execution_count": 171,
      "outputs": [
        {
          "output_type": "stream",
          "name": "stdout",
          "text": [
            "Accuracy score for the KNN model: 0.8331862312444837\n"
          ]
        }
      ]
    },
    {
      "cell_type": "code",
      "metadata": {
        "colab": {
          "base_uri": "https://localhost:8080/",
          "height": 1000
        },
        "id": "BjRbEPsw9xk6",
        "outputId": "82e614fc-18ae-493d-f311-b153f7e6cb4f"
      },
      "source": [
        "#TRYING DIFFERENT NEIGHBOURS\n",
        "xAxis = list()\n",
        "yAxis = list()\n",
        "for i in range(4,51,1):\n",
        "  knn = KNeighborsClassifier(n_neighbors=i, p=2, metric='minkowski') \n",
        "\n",
        "  #Fit the model\n",
        "  knn.fit(data_train, label_train)\n",
        "  xAxis.append(i)\n",
        "  #Use the model for pridiction\n",
        "  y_preds = knn.predict(data_test)\n",
        "  \n",
        "  #Model evaluation - check the accuracy score\n",
        "  knn_accuracy = accuracy_score(label_test,y_preds)\n",
        "  yAxis.append(round(knn_accuracy,4))\n",
        "  print('Accuracy score for the KNN model with n_neighbors=', i,\":\",round(knn_accuracy,4))\n",
        "\n",
        "linedata = pd.DataFrame({'X_Axis' : xAxis,\n",
        "                         'Y_Axis' : yAxis})\n",
        "#print(linedata)\n",
        "#plot the line graph\n",
        "fig, ax = plt.subplots(figsize=(15,8))\n",
        "#sns.set_style(\"ticks\")\n",
        "sns.set_style(\"whitegrid\")\n",
        "sns.lineplot(x = 'X_Axis',y = 'Y_Axis', data=linedata,ax=ax)\n",
        "\n",
        "knn_accuracy = max(yAxis)"
      ],
      "execution_count": 172,
      "outputs": [
        {
          "output_type": "stream",
          "name": "stdout",
          "text": [
            "Accuracy score for the KNN model with n_neighbors= 4 : 0.8358\n",
            "Accuracy score for the KNN model with n_neighbors= 5 : 0.8323\n",
            "Accuracy score for the KNN model with n_neighbors= 6 : 0.8411\n",
            "Accuracy score for the KNN model with n_neighbors= 7 : 0.8332\n",
            "Accuracy score for the KNN model with n_neighbors= 8 : 0.8367\n",
            "Accuracy score for the KNN model with n_neighbors= 9 : 0.8305\n",
            "Accuracy score for the KNN model with n_neighbors= 10 : 0.835\n",
            "Accuracy score for the KNN model with n_neighbors= 11 : 0.8297\n",
            "Accuracy score for the KNN model with n_neighbors= 12 : 0.8323\n",
            "Accuracy score for the KNN model with n_neighbors= 13 : 0.8279\n",
            "Accuracy score for the KNN model with n_neighbors= 14 : 0.8385\n",
            "Accuracy score for the KNN model with n_neighbors= 15 : 0.8305\n",
            "Accuracy score for the KNN model with n_neighbors= 16 : 0.8314\n",
            "Accuracy score for the KNN model with n_neighbors= 17 : 0.835\n",
            "Accuracy score for the KNN model with n_neighbors= 18 : 0.8473\n",
            "Accuracy score for the KNN model with n_neighbors= 19 : 0.842\n",
            "Accuracy score for the KNN model with n_neighbors= 20 : 0.8402\n",
            "Accuracy score for the KNN model with n_neighbors= 21 : 0.835\n",
            "Accuracy score for the KNN model with n_neighbors= 22 : 0.8305\n",
            "Accuracy score for the KNN model with n_neighbors= 23 : 0.8297\n",
            "Accuracy score for the KNN model with n_neighbors= 24 : 0.8305\n",
            "Accuracy score for the KNN model with n_neighbors= 25 : 0.8252\n",
            "Accuracy score for the KNN model with n_neighbors= 26 : 0.8314\n",
            "Accuracy score for the KNN model with n_neighbors= 27 : 0.8323\n",
            "Accuracy score for the KNN model with n_neighbors= 28 : 0.835\n",
            "Accuracy score for the KNN model with n_neighbors= 29 : 0.8314\n",
            "Accuracy score for the KNN model with n_neighbors= 30 : 0.8341\n",
            "Accuracy score for the KNN model with n_neighbors= 31 : 0.8367\n",
            "Accuracy score for the KNN model with n_neighbors= 32 : 0.835\n",
            "Accuracy score for the KNN model with n_neighbors= 33 : 0.8323\n",
            "Accuracy score for the KNN model with n_neighbors= 34 : 0.8376\n",
            "Accuracy score for the KNN model with n_neighbors= 35 : 0.8323\n",
            "Accuracy score for the KNN model with n_neighbors= 36 : 0.8367\n",
            "Accuracy score for the KNN model with n_neighbors= 37 : 0.835\n",
            "Accuracy score for the KNN model with n_neighbors= 38 : 0.8358\n",
            "Accuracy score for the KNN model with n_neighbors= 39 : 0.835\n",
            "Accuracy score for the KNN model with n_neighbors= 40 : 0.8358\n",
            "Accuracy score for the KNN model with n_neighbors= 41 : 0.8323\n",
            "Accuracy score for the KNN model with n_neighbors= 42 : 0.8341\n",
            "Accuracy score for the KNN model with n_neighbors= 43 : 0.8332\n",
            "Accuracy score for the KNN model with n_neighbors= 44 : 0.8332\n",
            "Accuracy score for the KNN model with n_neighbors= 45 : 0.8341\n",
            "Accuracy score for the KNN model with n_neighbors= 46 : 0.8314\n",
            "Accuracy score for the KNN model with n_neighbors= 47 : 0.835\n",
            "Accuracy score for the KNN model with n_neighbors= 48 : 0.8297\n",
            "Accuracy score for the KNN model with n_neighbors= 49 : 0.8297\n",
            "Accuracy score for the KNN model with n_neighbors= 50 : 0.8297\n"
          ]
        },
        {
          "output_type": "display_data",
          "data": {
            "image/png": "[encoded data removed]",
            "text/plain": [
              "<Figure size 1080x576 with 1 Axes>"
            ]
          },
          "metadata": {}
        }
      ]
    },
    {
      "cell_type": "markdown",
      "metadata": {
        "id": "tc-y8HW_DeL-"
      },
      "source": [
        "**5.2 Bayes**"
      ]
    },
    {
      "cell_type": "code",
      "metadata": {
        "id": "20Th8fFC9xmr"
      },
      "source": [
        "from sklearn.naive_bayes import GaussianNB\n",
        "bayes = GaussianNB()\n",
        "\n",
        "bayes.fit(data_train, label_train)\n",
        "\n",
        "y_pred = bayes.predict(data_test)"
      ],
      "execution_count": 173,
      "outputs": []
    },
    {
      "cell_type": "code",
      "metadata": {
        "colab": {
          "base_uri": "https://localhost:8080/"
        },
        "id": "kToJn-1p9xo_",
        "outputId": "e1f65395-1842-4049-b308-3eacb72e27dd"
      },
      "source": [
        "from sklearn.metrics import accuracy_score\n",
        "bayes_accuracy = accuracy_score(label_test, y_pred)\n",
        "print('Accuracy score for the Bayes model:', bayes_accuracy)"
      ],
      "execution_count": 174,
      "outputs": [
        {
          "output_type": "stream",
          "name": "stdout",
          "text": [
            "Accuracy score for the Bayes model: 0.6946160635481023\n"
          ]
        }
      ]
    },
    {
      "cell_type": "markdown",
      "metadata": {
        "id": "3cVJLA1OEAyv"
      },
      "source": [
        "**5.3 So sánh**"
      ]
    },
    {
      "cell_type": "code",
      "metadata": {
        "colab": {
          "base_uri": "https://localhost:8080/",
          "height": 206
        },
        "id": "JjaP34tb9xrs",
        "outputId": "bd498960-182e-4228-a5bd-434da1da12e8"
      },
      "source": [
        "model5 = pd.DataFrame({\n",
        "        'ModelName'         : ['Model 5'],\n",
        "        'Scaled?'           : ['Yes'],\n",
        "        'Outliers?'         : ['Yes'],\n",
        "        'Include Type?'     : ['Yes'],\n",
        "        'Added Category?'   : ['Yes'],\n",
        "        'Bayes_score'       : [bayes_accuracy],\n",
        "        'KNN_score'         : [knn_accuracy]\n",
        "    })\n",
        "models = models.append(model5,ignore_index=True)\n",
        "models.drop_duplicates(subset = None, keep = 'first', inplace = True) \n",
        "models.sort_values(by='ModelName', ascending=True)\n",
        "\n",
        "models"
      ],
      "execution_count": 175,
      "outputs": [
        {
          "output_type": "execute_result",
          "data": {
            "text/html": [
              "<div>\n",
              "<style scoped>\n",
              "    .dataframe tbody tr th:only-of-type {\n",
              "        vertical-align: middle;\n",
              "    }\n",
              "\n",
              "    .dataframe tbody tr th {\n",
              "        vertical-align: top;\n",
              "    }\n",
              "\n",
              "    .dataframe thead th {\n",
              "        text-align: right;\n",
              "    }\n",
              "</style>\n",
              "<table border=\"1\" class=\"dataframe\">\n",
              "  <thead>\n",
              "    <tr style=\"text-align: right;\">\n",
              "      <th></th>\n",
              "      <th>ModelName</th>\n",
              "      <th>Scaled?</th>\n",
              "      <th>Outliers?</th>\n",
              "      <th>Include Type?</th>\n",
              "      <th>Added Category?</th>\n",
              "      <th>Bayes_score</th>\n",
              "      <th>KNN_score</th>\n",
              "    </tr>\n",
              "  </thead>\n",
              "  <tbody>\n",
              "    <tr>\n",
              "      <th>0</th>\n",
              "      <td>Model 1</td>\n",
              "      <td>No</td>\n",
              "      <td>No</td>\n",
              "      <td>No</td>\n",
              "      <td>No</td>\n",
              "      <td>0.469231</td>\n",
              "      <td>0.482308</td>\n",
              "    </tr>\n",
              "    <tr>\n",
              "      <th>1</th>\n",
              "      <td>Model 2</td>\n",
              "      <td>No</td>\n",
              "      <td>No</td>\n",
              "      <td>Yes</td>\n",
              "      <td>Yes</td>\n",
              "      <td>0.726154</td>\n",
              "      <td>0.807700</td>\n",
              "    </tr>\n",
              "    <tr>\n",
              "      <th>2</th>\n",
              "      <td>Model 3</td>\n",
              "      <td>No</td>\n",
              "      <td>Yes</td>\n",
              "      <td>No</td>\n",
              "      <td>No</td>\n",
              "      <td>0.453663</td>\n",
              "      <td>0.489800</td>\n",
              "    </tr>\n",
              "    <tr>\n",
              "      <th>3</th>\n",
              "      <td>Model 4</td>\n",
              "      <td>No</td>\n",
              "      <td>Yes</td>\n",
              "      <td>Yes</td>\n",
              "      <td>Yes</td>\n",
              "      <td>0.695499</td>\n",
              "      <td>0.815500</td>\n",
              "    </tr>\n",
              "    <tr>\n",
              "      <th>4</th>\n",
              "      <td>Model 5</td>\n",
              "      <td>Yes</td>\n",
              "      <td>Yes</td>\n",
              "      <td>Yes</td>\n",
              "      <td>Yes</td>\n",
              "      <td>0.694616</td>\n",
              "      <td>0.847300</td>\n",
              "    </tr>\n",
              "  </tbody>\n",
              "</table>\n",
              "</div>"
            ],
            "text/plain": [
              "  ModelName Scaled? Outliers?  ... Added Category? Bayes_score  KNN_score\n",
              "0   Model 1      No        No  ...              No    0.469231   0.482308\n",
              "1   Model 2      No        No  ...             Yes    0.726154   0.807700\n",
              "2   Model 3      No       Yes  ...              No    0.453663   0.489800\n",
              "3   Model 4      No       Yes  ...             Yes    0.695499   0.815500\n",
              "4   Model 5     Yes       Yes  ...             Yes    0.694616   0.847300\n",
              "\n",
              "[5 rows x 7 columns]"
            ]
          },
          "metadata": {},
          "execution_count": 175
        }
      ]
    },
    {
      "cell_type": "code",
      "metadata": {
        "id": "9z8HtowMEKPK"
      },
      "source": [
        ""
      ],
      "execution_count": 175,
      "outputs": []
    },
    {
      "cell_type": "code",
      "metadata": {
        "id": "7cQF6sJPEKR2"
      },
      "source": [
        ""
      ],
      "execution_count": 175,
      "outputs": []
    },
    {
      "cell_type": "code",
      "metadata": {
        "id": "PBlZvHGeEKbJ"
      },
      "source": [
        ""
      ],
      "execution_count": 175,
      "outputs": []
    },
    {
      "cell_type": "code",
      "metadata": {
        "id": "HkgVA8KvEKd2"
      },
      "source": [
        ""
      ],
      "execution_count": 175,
      "outputs": []
    }
  ]
}